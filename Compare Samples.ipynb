{
 "cells": [
  {
   "cell_type": "code",
   "execution_count": 1,
   "metadata": {},
   "outputs": [
    {
     "name": "stderr",
     "output_type": "stream",
     "text": [
      "C:\\Users\\sushant\\Anaconda2\\lib\\site-packages\\sklearn\\cross_validation.py:44: DeprecationWarning: This module was deprecated in version 0.18 in favor of the model_selection module into which all the refactored classes and functions are moved. Also note that the interface of the new CV iterators are different from that of this module. This module will be removed in 0.20.\n",
      "  \"This module will be removed in 0.20.\", DeprecationWarning)\n"
     ]
    }
   ],
   "source": [
    "import pandas as pd\n",
    "import numpy as np\n",
    "import os\n",
    "import scipy\n",
    "import itertools\n",
    "#os.environ['XGBOOST_BUILD_DOC'] = 'C:\\\\Users\\\\sushant\\\\Anaconda2\\\\lib\\\\site-packages\\\\xgboost;'\n",
    "import matplotlib.pyplot as plt    \n",
    "import xgboost\n",
    "iv=['np'\t, 'os'\t ,'pd'\t, 'plt'\t ,'tqdm'\t, 'train'\t ,'train_date'\t, 'train_date_num'\t, 'train_num'\t ]\n",
    "def memchk(iv):\n",
    "    import sys,operator\n",
    "    ipython_vars=iv\n",
    "    ,'warnings'\t, 'xgboost']\n",
    "    print sorted([(x, sys.getsizeof(globals().get(x))) for x in dir() if not x.startswith('_') and x not in sys.modules and x not in ipython_vars], key=lambda x: x[1], reverse=True)\n",
    "    return sorted([{i:sys.getsizeof(globals().get(i))/1000000.0} for i in ipython_vars])\n",
    "%matplotlib inline\n",
    "from IPython.display import Markdown, display\n",
    "from sklearn.metrics import confusion_matrix\n",
    "import warnings\n",
    "#%load_ext autotime\n",
    "def printmd(string):\n",
    "    display(Markdown(string))\n",
    "\n",
    "warnings.filterwarnings('ignore')\n",
    "from tqdm import tqdm"
   ]
  },
  {
   "cell_type": "code",
   "execution_count": 52,
   "metadata": {},
   "outputs": [],
   "source": [
    "train_num = pd.read_csv('C:\\\\Users\\\\sushant\\\\Documents\\\\New Start\\\\Datasets\\\\Bosch\\\\Samples\\\\sample_num_bal8.csv',dtype=np.float32,usecols=['Unnamed: 0','Id','Response']).head(10000).set_index('Unnamed: 0')\n",
    "#train_cat = pd.read_csv('sample_cat.csv').head().set_index('Unnamed: 0')\n",
    "#train_date = pd.read_csv('C:\\\\Users\\\\sushant\\\\Documents\\\\New Start\\\\Datasets\\\\Bosch\\\\Samples\\\\sample_date_bal6.csv',dtype=np.float32).head(10000).set_index('Unnamed: 0')"
   ]
  },
  {
   "cell_type": "code",
   "execution_count": 53,
   "metadata": {},
   "outputs": [
    {
     "data": {
      "text/html": [
       "<div>\n",
       "<table border=\"1\" class=\"dataframe\">\n",
       "  <thead>\n",
       "    <tr style=\"text-align: right;\">\n",
       "      <th></th>\n",
       "      <th>Id</th>\n",
       "      <th>Response</th>\n",
       "    </tr>\n",
       "    <tr>\n",
       "      <th>Unnamed: 0</th>\n",
       "      <th></th>\n",
       "      <th></th>\n",
       "    </tr>\n",
       "  </thead>\n",
       "  <tbody>\n",
       "    <tr>\n",
       "      <th>168.0</th>\n",
       "      <td>342.0</td>\n",
       "      <td>0.0</td>\n",
       "    </tr>\n",
       "    <tr>\n",
       "      <th>510.0</th>\n",
       "      <td>995.0</td>\n",
       "      <td>0.0</td>\n",
       "    </tr>\n",
       "    <tr>\n",
       "      <th>706.0</th>\n",
       "      <td>1406.0</td>\n",
       "      <td>0.0</td>\n",
       "    </tr>\n",
       "    <tr>\n",
       "      <th>724.0</th>\n",
       "      <td>1447.0</td>\n",
       "      <td>0.0</td>\n",
       "    </tr>\n",
       "    <tr>\n",
       "      <th>780.0</th>\n",
       "      <td>1595.0</td>\n",
       "      <td>0.0</td>\n",
       "    </tr>\n",
       "  </tbody>\n",
       "</table>\n",
       "</div>"
      ],
      "text/plain": [
       "                Id  Response\n",
       "Unnamed: 0                  \n",
       "168.0        342.0       0.0\n",
       "510.0        995.0       0.0\n",
       "706.0       1406.0       0.0\n",
       "724.0       1447.0       0.0\n",
       "780.0       1595.0       0.0"
      ]
     },
     "execution_count": 53,
     "metadata": {},
     "output_type": "execute_result"
    }
   ],
   "source": [
    "train_num.head()"
   ]
  },
  {
   "cell_type": "code",
   "execution_count": 54,
   "metadata": {},
   "outputs": [],
   "source": [
    "train_num2 = pd.read_csv('C:\\\\Users\\\\sushant\\\\Documents\\\\New Start\\\\Datasets\\\\Bosch\\\\Samples\\\\sample_num_bal7.csv',dtype=np.float32,usecols=['Unnamed: 0','Id','Response']).head(10000).set_index('Unnamed: 0')\n",
    "#train_cat = pd.read_csv('sample_cat.csv').head().set_index('Unnamed: 0')\n",
    "#train_date = pd.read_csv('C:\\\\Users\\\\sushant\\\\Documents\\\\New Start\\\\Datasets\\\\Bosch\\\\Samples\\\\sample_date_bal6.csv',dtype=np.float32).head(10000).set_index('Unnamed: 0')"
   ]
  },
  {
   "cell_type": "code",
   "execution_count": 55,
   "metadata": {},
   "outputs": [
    {
     "data": {
      "text/plain": [
       "(1840, 8669, 8676)"
      ]
     },
     "execution_count": 55,
     "metadata": {},
     "output_type": "execute_result"
    }
   ],
   "source": [
    "len(set(train_num2.index).intersection(set(train_num.index))),len(set(train_num2.index)),len(set(train_num.index))"
   ]
  },
  {
   "cell_type": "code",
   "execution_count": null,
   "metadata": {},
   "outputs": [],
   "source": []
  },
  {
   "cell_type": "code",
   "execution_count": 58,
   "metadata": {},
   "outputs": [
    {
     "data": {
      "text/plain": [
       "3004"
      ]
     },
     "execution_count": 58,
     "metadata": {},
     "output_type": "execute_result"
    },
    {
     "name": "stdout",
     "output_type": "stream",
     "text": [
      "time: 97 ms\n"
     ]
    }
   ],
   "source": [
    "len(set(train_num2[train_num2['Response']==1].index).intersection(set(train_num2[train_num2['Response']==1].index)))"
   ]
  },
  {
   "cell_type": "code",
   "execution_count": 5,
   "metadata": {},
   "outputs": [
    {
     "data": {
      "text/plain": [
       "0.68999999999999995"
      ]
     },
     "execution_count": 5,
     "metadata": {},
     "output_type": "execute_result"
    }
   ],
   "source": [
    "np.floor((0.689646*100 +0.5))/100"
   ]
  },
  {
   "cell_type": "code",
   "execution_count": 22,
   "metadata": {},
   "outputs": [
    {
     "data": {
      "text/plain": [
       "0.69"
      ]
     },
     "execution_count": 22,
     "metadata": {},
     "output_type": "execute_result"
    }
   ],
   "source": [
    "round(0.68964698987979,2)"
   ]
  },
  {
   "cell_type": "code",
   "execution_count": 77,
   "metadata": {},
   "outputs": [
    {
     "data": {
      "text/plain": [
       "69.0"
      ]
     },
     "execution_count": 77,
     "metadata": {},
     "output_type": "execute_result"
    },
    {
     "name": "stdout",
     "output_type": "stream",
     "text": [
      "time: 16 ms\n"
     ]
    }
   ],
   "source": [
    "np.floor(0.689646 * 100+0.5)"
   ]
  },
  {
   "cell_type": "code",
   "execution_count": 29,
   "metadata": {},
   "outputs": [],
   "source": [
    "x=np.array([0.68964698,0.45])"
   ]
  },
  {
   "cell_type": "code",
   "execution_count": 32,
   "metadata": {},
   "outputs": [],
   "source": [
    "x=np.around(x,2)"
   ]
  },
  {
   "cell_type": "code",
   "execution_count": 33,
   "metadata": {},
   "outputs": [
    {
     "data": {
      "text/plain": [
       "{0.45000000000000001, 0.68999999999999995}"
      ]
     },
     "execution_count": 33,
     "metadata": {},
     "output_type": "execute_result"
    }
   ],
   "source": [
    "set(x)"
   ]
  },
  {
   "cell_type": "code",
   "execution_count": 35,
   "metadata": {},
   "outputs": [
    {
     "name": "stdout",
     "output_type": "stream",
     "text": [
      "set([0.45000000000000001, 0.68999999999999995])\n"
     ]
    }
   ],
   "source": [
    "print set(x)"
   ]
  },
  {
   "cell_type": "code",
   "execution_count": 80,
   "metadata": {},
   "outputs": [
    {
     "name": "stdout",
     "output_type": "stream",
     "text": [
      "time: 1e+03 µs\n"
     ]
    }
   ],
   "source": [
    "x=0.689646"
   ]
  },
  {
   "cell_type": "code",
   "execution_count": 92,
   "metadata": {},
   "outputs": [
    {
     "data": {
      "text/plain": [
       "24"
      ]
     },
     "execution_count": 92,
     "metadata": {},
     "output_type": "execute_result"
    },
    {
     "name": "stdout",
     "output_type": "stream",
     "text": [
      "time: 3 ms\n"
     ]
    }
   ],
   "source": [
    "sys.getsizeof(x)"
   ]
  },
  {
   "cell_type": "code",
   "execution_count": 93,
   "metadata": {},
   "outputs": [
    {
     "data": {
      "text/plain": [
       "sys.float_info(max=1.7976931348623157e+308, max_exp=1024, max_10_exp=308, min=2.2250738585072014e-308, min_exp=-1021, min_10_exp=-307, dig=15, mant_dig=53, epsilon=2.220446049250313e-16, radix=2, rounds=1)"
      ]
     },
     "execution_count": 93,
     "metadata": {},
     "output_type": "execute_result"
    },
    {
     "name": "stdout",
     "output_type": "stream",
     "text": [
      "Error in callback <bound method LineWatcher.stop of <autotime.LineWatcher object at 0x0000000009F2C080>> (for post_run_cell):\n"
     ]
    },
    {
     "ename": "AssertionError",
     "evalue": "",
     "output_type": "error",
     "traceback": [
      "\u001b[1;31m---------------------------------------------------------------------------\u001b[0m",
      "\u001b[1;31mAssertionError\u001b[0m                            Traceback (most recent call last)",
      "\u001b[1;32mC:\\Users\\sushant\\.ipython\\extensions\\autotime.pyc\u001b[0m in \u001b[0;36mstop\u001b[1;34m(self)\u001b[0m\n\u001b[0;32m     23\u001b[0m         \u001b[1;32mif\u001b[0m \u001b[0mself\u001b[0m\u001b[1;33m.\u001b[0m\u001b[0mstart_time\u001b[0m\u001b[1;33m:\u001b[0m\u001b[1;33m\u001b[0m\u001b[0m\n\u001b[0;32m     24\u001b[0m             \u001b[0mdiff\u001b[0m \u001b[1;33m=\u001b[0m \u001b[0mtime\u001b[0m\u001b[1;33m.\u001b[0m\u001b[0mtime\u001b[0m\u001b[1;33m(\u001b[0m\u001b[1;33m)\u001b[0m \u001b[1;33m-\u001b[0m \u001b[0mself\u001b[0m\u001b[1;33m.\u001b[0m\u001b[0mstart_time\u001b[0m\u001b[1;33m\u001b[0m\u001b[0m\n\u001b[1;32m---> 25\u001b[1;33m             \u001b[1;32massert\u001b[0m \u001b[0mdiff\u001b[0m \u001b[1;33m>\u001b[0m \u001b[1;36m0\u001b[0m\u001b[1;33m\u001b[0m\u001b[0m\n\u001b[0m\u001b[0;32m     26\u001b[0m             \u001b[1;32mprint\u001b[0m\u001b[1;33m(\u001b[0m\u001b[1;34m'time: %s'\u001b[0m \u001b[1;33m%\u001b[0m \u001b[0mformat_delta\u001b[0m\u001b[1;33m(\u001b[0m\u001b[0mdiff\u001b[0m\u001b[1;33m)\u001b[0m\u001b[1;33m)\u001b[0m\u001b[1;33m\u001b[0m\u001b[0m\n\u001b[0;32m     27\u001b[0m \u001b[1;33m\u001b[0m\u001b[0m\n",
      "\u001b[1;31mAssertionError\u001b[0m: "
     ]
    }
   ],
   "source": [
    "import sys\n",
    "sys.float_info"
   ]
  },
  {
   "cell_type": "code",
   "execution_count": 45,
   "metadata": {},
   "outputs": [
    {
     "data": {
      "text/plain": [
       "0.0"
      ]
     },
     "execution_count": 45,
     "metadata": {},
     "output_type": "execute_result"
    }
   ],
   "source": [
    "train_num[train_num['Id']==342.0]['Response'].values[0]"
   ]
  },
  {
   "cell_type": "code",
   "execution_count": 104,
   "metadata": {},
   "outputs": [],
   "source": []
  },
  {
   "cell_type": "code",
   "execution_count": 105,
   "metadata": {},
   "outputs": [
    {
     "name": "stdout",
     "output_type": "stream",
     "text": [
      "<class 'pandas.core.frame.DataFrame'>\n",
      "RangeIndex: 2124 entries, 0 to 2123\n",
      "Data columns (total 2 columns):\n",
      "fea     2124 non-null object\n",
      "coef    2124 non-null float64\n",
      "dtypes: float64(1), object(1)\n",
      "memory usage: 33.3+ KB\n",
      "<class 'pandas.core.frame.DataFrame'>\n",
      "RangeIndex: 2124 entries, 0 to 2123\n",
      "Data columns (total 2 columns):\n",
      "fea      2124 non-null object\n",
      "coef2    2124 non-null float64\n",
      "dtypes: float64(1), object(1)\n",
      "memory usage: 33.3+ KB\n",
      "<class 'pandas.core.frame.DataFrame'>\n",
      "RangeIndex: 2124 entries, 0 to 2123\n",
      "Data columns (total 2 columns):\n",
      "fea      2124 non-null object\n",
      "coef3    2124 non-null float64\n",
      "dtypes: float64(1), object(1)\n",
      "memory usage: 33.3+ KB\n"
     ]
    },
    {
     "data": {
      "text/plain": [
       "(None, None, None)"
      ]
     },
     "execution_count": 105,
     "metadata": {},
     "output_type": "execute_result"
    }
   ],
   "source": [
    "feat6.info() ,feat7.info(),feat8.info()"
   ]
  },
  {
   "cell_type": "code",
   "execution_count": 107,
   "metadata": {},
   "outputs": [],
   "source": [
    "feat6=feat6[feat6['coef']>0]\n",
    "feat7=feat7[feat7['coef2']>0]\n",
    "feat8=feat8[feat8['coef3']>0]"
   ]
  },
  {
   "cell_type": "code",
   "execution_count": 108,
   "metadata": {},
   "outputs": [
    {
     "name": "stdout",
     "output_type": "stream",
     "text": [
      "<class 'pandas.core.frame.DataFrame'>\n",
      "Int64Index: 327 entries, 0 to 326\n",
      "Data columns (total 3 columns):\n",
      "fea      327 non-null object\n",
      "coef     327 non-null float64\n",
      "coef2    327 non-null float64\n",
      "dtypes: float64(2), object(1)\n",
      "memory usage: 10.2+ KB\n"
     ]
    }
   ],
   "source": [
    "feat6.merge(feat7,on ='fea',how='inner').info()"
   ]
  },
  {
   "cell_type": "code",
   "execution_count": 111,
   "metadata": {},
   "outputs": [],
   "source": [
    "concatfeat = feat6.merge(feat7.merge(feat8,how='inner'),how='inner')['fea']"
   ]
  },
  {
   "cell_type": "code",
   "execution_count": 112,
   "metadata": {},
   "outputs": [
    {
     "data": {
      "text/plain": [
       "0      L3_S33_F3857\n",
       "1      L3_S33_F3859\n",
       "2      L3_S30_F3519\n",
       "3      L3_S30_F3809\n",
       "4      L3_S29_F3315\n",
       "5      L3_S29_F3379\n",
       "6      L3_S29_F3324\n",
       "7      L3_S30_F3554\n",
       "8          L0_S0_F0\n",
       "9         L0_S0_F18\n",
       "10     L3_S30_F3754\n",
       "11     L3_S30_F3709\n",
       "12     L3_S30_F3749\n",
       "13     L3_S30_F3494\n",
       "14     L3_S30_F3774\n",
       "15         L0_S0_F2\n",
       "16     L3_S30_F3804\n",
       "17        L0_S1_F28\n",
       "18     L3_S29_F3427\n",
       "19     L3_S29_F3479\n",
       "20        L0_S0_F16\n",
       "21     L3_S29_F3318\n",
       "22     L2_S26_F3069\n",
       "23     L2_S26_F3036\n",
       "24     L2_S26_F3062\n",
       "25     L3_S30_F3744\n",
       "26     L3_S29_F3351\n",
       "27      L0_S14_F386\n",
       "28     L3_S29_F3373\n",
       "29     L3_S30_F3524\n",
       "           ...     \n",
       "272    L1_S25_F2111\n",
       "273    L3_S31_F3834\n",
       "274    L1_S24_F1723\n",
       "275    L3_S47_F4153\n",
       "276    L3_S35_F3884\n",
       "277    L1_S24_F1798\n",
       "278    L3_S44_F4115\n",
       "279    L1_S24_F1812\n",
       "280    L3_S29_F3436\n",
       "281     L0_S10_F239\n",
       "282     L0_S10_F244\n",
       "283     L0_S12_F342\n",
       "284    L3_S49_D4208\n",
       "285     L0_S14_F390\n",
       "286     L0_S15_F406\n",
       "287    L1_S24_D1674\n",
       "288     L0_S21_F512\n",
       "289     L0_S21_F522\n",
       "290     L0_S23_F627\n",
       "291     L0_S23_F651\n",
       "292    L3_S32_D3852\n",
       "293    L3_S34_D3875\n",
       "294      L0_S9_F185\n",
       "295    L1_S24_F1571\n",
       "296    L1_S24_F1565\n",
       "297       L0_S3_F68\n",
       "298     L0_S14_D360\n",
       "299    L1_S24_F1578\n",
       "300       L0_S3_F92\n",
       "301    L1_S24_F1569\n",
       "Name: fea, dtype: object"
      ]
     },
     "execution_count": 112,
     "metadata": {},
     "output_type": "execute_result"
    }
   ],
   "source": [
    "concatfeat"
   ]
  },
  {
   "cell_type": "code",
   "execution_count": 117,
   "metadata": {},
   "outputs": [],
   "source": [
    "test_date=pd.read_csv('test_numeric.csv.zip',compression='zip',chunksize=500,usecols=[1])"
   ]
  },
  {
   "cell_type": "code",
   "execution_count": 118,
   "metadata": {
    "collapsed": true
   },
   "outputs": [],
   "source": [
    "length=0\n",
    "for i in test_date:\n",
    "    length=len(i)+length"
   ]
  },
  {
   "cell_type": "code",
   "execution_count": 119,
   "metadata": {},
   "outputs": [
    {
     "data": {
      "text/plain": [
       "1183748"
      ]
     },
     "execution_count": 119,
     "metadata": {},
     "output_type": "execute_result"
    }
   ],
   "source": [
    "length"
   ]
  },
  {
   "cell_type": "code",
   "execution_count": null,
   "metadata": {
    "collapsed": true
   },
   "outputs": [],
   "source": []
  }
 ],
 "metadata": {
  "kernelspec": {
   "display_name": "Python [Root]",
   "language": "python",
   "name": "Python [Root]"
  },
  "language_info": {
   "codemirror_mode": {
    "name": "ipython",
    "version": 2
   },
   "file_extension": ".py",
   "mimetype": "text/x-python",
   "name": "python",
   "nbconvert_exporter": "python",
   "pygments_lexer": "ipython2",
   "version": "2.7.12"
  }
 },
 "nbformat": 4,
 "nbformat_minor": 1
}
