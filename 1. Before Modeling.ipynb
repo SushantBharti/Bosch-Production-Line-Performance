{
 "cells": [
  {
   "cell_type": "code",
   "execution_count": 57,
   "metadata": {},
   "outputs": [
    {
     "name": "stdout",
     "output_type": "stream",
     "text": [
      "The autotime extension is already loaded. To reload it, use:\n",
      "  %reload_ext autotime\n",
      "time: 68 ms\n"
     ]
    }
   ],
   "source": [
    "import pandas as pd\n",
    "import numpy as np\n",
    "import os\n",
    "import scipy\n",
    "import itertools\n",
    "#os.environ['XGBOOST_BUILD_DOC'] = 'C:\\\\Users\\\\sushant\\\\Anaconda2\\\\lib\\\\site-packages\\\\xgboost;'\n",
    "import matplotlib.pyplot as plt    \n",
    "import xgboost\n",
    "iv=['np'\t, 'os'\t ,'pd'\t, 'plt'\t ,'tqdm'\t, 'train'\t ,'train_date'\t, 'train_date_num'\t, 'train_num'\t ]\n",
    "def memchk(iv):\n",
    "    import sys,operator\n",
    "    ipython_vars=iv\n",
    "    ,'warnings'\t, 'xgboost']\n",
    "    print sorted([(x, sys.getsizeof(globals().get(x))) for x in dir() if not x.startswith('_') and x not in sys.modules and x not in ipython_vars], key=lambda x: x[1], reverse=True)\n",
    "    return sorted([{i:sys.getsizeof(globals().get(i))/1000000.0} for i in ipython_vars])\n",
    "%matplotlib inline\n",
    "from IPython.display import Markdown, display\n",
    "from sklearn.metrics import confusion_matrix\n",
    "import warnings\n",
    "%load_ext autotime\n",
    "def printmd(string):\n",
    "    display(Markdown(string))\n",
    "\n",
    "warnings.filterwarnings('ignore')\n",
    "from tqdm import tqdm"
   ]
  },
  {
   "cell_type": "markdown",
   "metadata": {},
   "source": [
    "length of Chunks :100000"
   ]
  },
  {
   "cell_type": "code",
   "execution_count": 58,
   "metadata": {},
   "outputs": [
    {
     "name": "stdout",
     "output_type": "stream",
     "text": [
      "time: 70 ms\n"
     ]
    }
   ],
   "source": [
    "rlimit=5000"
   ]
  },
  {
   "cell_type": "markdown",
   "metadata": {},
   "source": [
    "### Reading Numeric Train \n",
    "\n",
    "#### Id & Response columns only\n",
    "```\n",
    "Reading data in chunks,\n",
    "Counting Response \n",
    "Listing respective indices of Response\n",
    "```"
   ]
  },
  {
   "cell_type": "code",
   "execution_count": 59,
   "metadata": {},
   "outputs": [
    {
     "name": "stderr",
     "output_type": "stream",
     "text": [
      "100%|██████████████████████████████████████████████████████████████████████████████████| 12/12 [00:45<00:00,  3.62s/it]\n"
     ]
    },
    {
     "name": "stdout",
     "output_type": "stream",
     "text": [
      "time: 48.5 s\n"
     ]
    }
   ],
   "source": [
    "res1=0\n",
    "res0=0\n",
    "ind1=[]\n",
    "ind0=[]\n",
    "id1=[]\n",
    "id0=[]\n",
    "for i in tqdm(range(1,13)):\n",
    "    train_Num_part = pd.read_csv('C:\\\\Users\\\\sushant\\\\Documents\\\\New Start\\\\Datasets\\\\Bosch\\\\Chunks\\\\Numeric\\\\train_'+str(i)+'.gzip', chunksize=rlimit,compression='gzip',usecols=['Id','Response'])\n",
    "    for chunk in train_Num_part:\n",
    "        res1=res1+len(chunk[chunk['Response']==1])\n",
    "        res0=res0+len(chunk[chunk['Response']==0])\n",
    "        ind1.extend(chunk[chunk['Response']==1].index.tolist())\n",
    "        ind0.extend(chunk[chunk['Response']==0].index.tolist())\n",
    "        id1.extend(chunk[chunk['Response']==1].Id.tolist())\n",
    "        id0.extend(chunk[chunk['Response']==0].Id.tolist())\n",
    "        del chunk\n",
    "        \n",
    "    "
   ]
  },
  {
   "cell_type": "markdown",
   "metadata": {},
   "source": [
    "\n",
    "#### Checking Response Ratio \n"
   ]
  },
  {
   "cell_type": "code",
   "execution_count": 60,
   "metadata": {},
   "outputs": [
    {
     "name": "stdout",
     "output_type": "stream",
     "text": [
      "Faulty Rows : 6879 \n",
      "Remaining rows : 1176868\n"
     ]
    },
    {
     "data": {
      "text/markdown": [
       "### 5.84517549972  faults per thousand rows"
      ],
      "text/plain": [
       "<IPython.core.display.Markdown object>"
      ]
     },
     "metadata": {},
     "output_type": "display_data"
    },
    {
     "name": "stdout",
     "output_type": "stream",
     "text": [
      "time: 16 ms\n"
     ]
    }
   ],
   "source": [
    "print 'Faulty Rows :',res1, '\\nRemaining rows :', res0\n",
    "printmd('### '+str(res1*1000.0/res0)+ '  faults per thousand rows')"
   ]
  },
  {
   "cell_type": "markdown",
   "metadata": {},
   "source": [
    "* Length of index list & Id list"
   ]
  },
  {
   "cell_type": "code",
   "execution_count": 61,
   "metadata": {},
   "outputs": [
    {
     "data": {
      "text/plain": [
       "(6879, 1176868, 6879, 1176868)"
      ]
     },
     "execution_count": 61,
     "metadata": {},
     "output_type": "execute_result"
    },
    {
     "name": "stdout",
     "output_type": "stream",
     "text": [
      "time: 123 ms\n"
     ]
    }
   ],
   "source": [
    "len(ind1),len(ind0),len(id1),len(id0)"
   ]
  },
  {
   "cell_type": "markdown",
   "metadata": {},
   "source": [
    "* Checking unique Ids"
   ]
  },
  {
   "cell_type": "code",
   "execution_count": 62,
   "metadata": {},
   "outputs": [
    {
     "data": {
      "text/plain": [
       "(6879, 1176868)"
      ]
     },
     "execution_count": 62,
     "metadata": {},
     "output_type": "execute_result"
    },
    {
     "name": "stdout",
     "output_type": "stream",
     "text": [
      "time: 250 ms\n"
     ]
    }
   ],
   "source": [
    "len(set(id1)),len(set(id0))"
   ]
  },
  {
   "cell_type": "markdown",
   "metadata": {},
   "source": [
    "### Generating  random indices based Response value\n",
    "```\n",
    "Sample index for Response 1 will be selected randomly from the list of indices for Response 1\n",
    "                                            *sample size will be sample_mul_factor*1000 rows \n",
    "```\n"
   ]
  },
  {
   "cell_type": "markdown",
   "metadata": {},
   "source": [
    "\n",
    "\n"
   ]
  },
  {
   "cell_type": "code",
   "execution_count": 63,
   "metadata": {},
   "outputs": [
    {
     "name": "stdout",
     "output_type": "stream",
     "text": [
      "time: 92 ms\n"
     ]
    }
   ],
   "source": [
    "sample_mul_factor=10"
   ]
  },
  {
   "cell_type": "code",
   "execution_count": 64,
   "metadata": {},
   "outputs": [
    {
     "name": "stdout",
     "output_type": "stream",
     "text": [
      "time: 129 ms\n"
     ]
    }
   ],
   "source": [
    "np.random.seed()\n",
    "samp1_ind=(np.array(np.random.random(400*sample_mul_factor)) * len(id1)).astype(int)\n",
    "#print '1id_index\\n',samp1_ind\n",
    "\n",
    "\n",
    "samp0_ind=(np.array(np.random.random(600*sample_mul_factor)) * len(id0)).astype(int)\n",
    "#print '0id_index\\n',samp0_ind[:100]\n"
   ]
  },
  {
   "cell_type": "markdown",
   "metadata": {},
   "source": [
    "#### length of generated sample index"
   ]
  },
  {
   "cell_type": "code",
   "execution_count": 65,
   "metadata": {},
   "outputs": [
    {
     "data": {
      "text/plain": [
       "(4000, 6000)"
      ]
     },
     "execution_count": 65,
     "metadata": {},
     "output_type": "execute_result"
    },
    {
     "name": "stdout",
     "output_type": "stream",
     "text": [
      "time: 119 ms\n"
     ]
    }
   ],
   "source": [
    "len(samp1_ind),len(samp0_ind)"
   ]
  },
  {
   "cell_type": "markdown",
   "metadata": {},
   "source": [
    "#### length of unique generated sample index"
   ]
  },
  {
   "cell_type": "code",
   "execution_count": 66,
   "metadata": {},
   "outputs": [
    {
     "data": {
      "text/plain": [
       "(3032, 5987)"
      ]
     },
     "execution_count": 66,
     "metadata": {},
     "output_type": "execute_result"
    },
    {
     "name": "stdout",
     "output_type": "stream",
     "text": [
      "time: 173 ms\n"
     ]
    }
   ],
   "source": [
    "len(set(samp1_ind)),len(set(samp0_ind))"
   ]
  },
  {
   "cell_type": "markdown",
   "metadata": {
    "collapsed": true
   },
   "source": [
    "#### Ids corrosponding to sample indices"
   ]
  },
  {
   "cell_type": "code",
   "execution_count": 67,
   "metadata": {},
   "outputs": [
    {
     "name": "stdout",
     "output_type": "stream",
     "text": [
      "time: 117 ms\n"
     ]
    }
   ],
   "source": [
    "sam1_id=[id1[i]  for i in samp1_ind]\n",
    "sam0_id=[id0[i]  for i in samp0_ind]"
   ]
  },
  {
   "cell_type": "markdown",
   "metadata": {},
   "source": [
    "#### Combining Ids"
   ]
  },
  {
   "cell_type": "code",
   "execution_count": 68,
   "metadata": {},
   "outputs": [
    {
     "name": "stdout",
     "output_type": "stream",
     "text": [
      "time: 100 ms\n"
     ]
    }
   ],
   "source": [
    "tot_samp_id =sam1_id+sam0_id"
   ]
  },
  {
   "cell_type": "markdown",
   "metadata": {},
   "source": [
    "#### Total no. of Ids"
   ]
  },
  {
   "cell_type": "code",
   "execution_count": 69,
   "metadata": {},
   "outputs": [
    {
     "data": {
      "text/plain": [
       "10000"
      ]
     },
     "execution_count": 69,
     "metadata": {},
     "output_type": "execute_result"
    },
    {
     "name": "stdout",
     "output_type": "stream",
     "text": [
      "time: 86 ms\n"
     ]
    }
   ],
   "source": [
    "len(tot_samp_id)"
   ]
  },
  {
   "cell_type": "markdown",
   "metadata": {},
   "source": [
    "## Creating Sample\n",
    "```\n",
    "Extracting data from numeric table for selected sample Id\n",
    "```"
   ]
  },
  {
   "cell_type": "code",
   "execution_count": 70,
   "metadata": {},
   "outputs": [
    {
     "name": "stdout",
     "output_type": "stream",
     "text": [
      "time: 2min 18s\n"
     ]
    }
   ],
   "source": [
    "sample_num = pd.DataFrame() \n",
    "for i in range(1,13):\n",
    "    train_Num_part = pd.read_csv('C:\\\\Users\\\\sushant\\\\Documents\\\\New Start\\\\Datasets\\\\Bosch\\\\Chunks\\\\Numeric\\\\train_'+str(i)+'.gzip', chunksize=rlimit,compression='gzip')\n",
    "    for chunk in train_Num_part:\n",
    "        sample_num=sample_num.append(chunk[chunk['Id'].isin(tot_samp_id)])\n",
    "        del chunk"
   ]
  },
  {
   "cell_type": "code",
   "execution_count": 71,
   "metadata": {},
   "outputs": [
    {
     "name": "stdout",
     "output_type": "stream",
     "text": [
      "<class 'pandas.core.frame.DataFrame'>\n",
      "Int64Index: 9019 entries, 101 to 83488\n",
      "Columns: 970 entries, Id to Response\n",
      "dtypes: float64(968), int64(2)\n",
      "memory usage: 66.8 MB\n",
      "None\n",
      "time: 75 ms\n"
     ]
    }
   ],
   "source": [
    "print sample_num.info()"
   ]
  },
  {
   "cell_type": "markdown",
   "metadata": {},
   "source": [
    "#### Distribution of Response in sample"
   ]
  },
  {
   "cell_type": "code",
   "execution_count": 72,
   "metadata": {},
   "outputs": [
    {
     "data": {
      "text/plain": [
       "0    5987\n",
       "1    3032\n",
       "Name: Response, dtype: int64"
      ]
     },
     "execution_count": 72,
     "metadata": {},
     "output_type": "execute_result"
    },
    {
     "name": "stdout",
     "output_type": "stream",
     "text": [
      "time: 21 ms\n"
     ]
    }
   ],
   "source": [
    "sample_num['Response'].value_counts()"
   ]
  },
  {
   "cell_type": "markdown",
   "metadata": {},
   "source": [
    "####  Fault Ratio"
   ]
  },
  {
   "cell_type": "code",
   "execution_count": 73,
   "metadata": {},
   "outputs": [
    {
     "data": {
      "text/markdown": [
       "#### 0.336179177292"
      ],
      "text/plain": [
       "<IPython.core.display.Markdown object>"
      ]
     },
     "metadata": {},
     "output_type": "display_data"
    },
    {
     "name": "stdout",
     "output_type": "stream",
     "text": [
      "time: 87 ms\n"
     ]
    }
   ],
   "source": [
    "printmd('#### '+ str(sample_num['Response'].value_counts()[1]*1.0/(sample_num['Response'].value_counts()[1]+sample_num['Response'].value_counts()[0])))"
   ]
  },
  {
   "cell_type": "code",
   "execution_count": 74,
   "metadata": {},
   "outputs": [
    {
     "data": {
      "text/plain": [
       "<matplotlib.axes._subplots.AxesSubplot at 0x18fd7780>"
      ]
     },
     "execution_count": 74,
     "metadata": {},
     "output_type": "execute_result"
    },
    {
     "data": {
      "image/png": "[encoded data removed]",
      "text/plain": [
       "<matplotlib.figure.Figure at 0x143ac198>"
      ]
     },
     "metadata": {},
     "output_type": "display_data"
    },
    {
     "name": "stdout",
     "output_type": "stream",
     "text": [
      "time: 357 ms\n"
     ]
    }
   ],
   "source": [
    "sample_num.groupby(['Response']).count()['Id'].plot.bar(stacked=True)"
   ]
  },
  {
   "cell_type": "code",
   "execution_count": 75,
   "metadata": {},
   "outputs": [
    {
     "name": "stdout",
     "output_type": "stream",
     "text": [
      "<class 'pandas.core.frame.DataFrame'>\n",
      "Int64Index: 9019 entries, 101 to 83488\n",
      "Columns: 970 entries, Id to Response\n",
      "dtypes: float64(968), int64(2)\n",
      "memory usage: 66.8 MB\n",
      "time: 20 ms\n"
     ]
    }
   ],
   "source": [
    "sample_num.info()"
   ]
  },
  {
   "cell_type": "markdown",
   "metadata": {},
   "source": [
    "confirming all rows"
   ]
  },
  {
   "cell_type": "code",
   "execution_count": 76,
   "metadata": {},
   "outputs": [
    {
     "data": {
      "text/plain": [
       "(9019, 9019)"
      ]
     },
     "execution_count": 76,
     "metadata": {},
     "output_type": "execute_result"
    },
    {
     "name": "stdout",
     "output_type": "stream",
     "text": [
      "time: 94 ms\n"
     ]
    }
   ],
   "source": [
    "len(set(tot_samp_id).intersection(set(sample_num.Id.tolist()))),len(set(tot_samp_id).union(set(sample_num.Id.tolist())))"
   ]
  },
  {
   "cell_type": "markdown",
   "metadata": {},
   "source": [
    "common id in sample"
   ]
  },
  {
   "cell_type": "code",
   "execution_count": 77,
   "metadata": {},
   "outputs": [
    {
     "data": {
      "text/plain": [
       "set()"
      ]
     },
     "execution_count": 77,
     "metadata": {},
     "output_type": "execute_result"
    },
    {
     "name": "stdout",
     "output_type": "stream",
     "text": [
      "time: 86 ms\n"
     ]
    }
   ],
   "source": [
    "set(sam0_id).intersection(set(sam1_id))"
   ]
  },
  {
   "cell_type": "code",
   "execution_count": 78,
   "metadata": {},
   "outputs": [
    {
     "data": {
      "text/html": [
       "<div>\n",
       "<table border=\"1\" class=\"dataframe\">\n",
       "  <thead>\n",
       "    <tr style=\"text-align: right;\">\n",
       "      <th></th>\n",
       "      <th>Id</th>\n",
       "      <th>L0_S0_F0</th>\n",
       "      <th>L0_S0_F2</th>\n",
       "      <th>L0_S0_F4</th>\n",
       "      <th>L0_S0_F6</th>\n",
       "      <th>L0_S0_F8</th>\n",
       "      <th>L0_S0_F10</th>\n",
       "      <th>L0_S0_F12</th>\n",
       "      <th>L0_S0_F14</th>\n",
       "      <th>L0_S0_F16</th>\n",
       "      <th>...</th>\n",
       "      <th>L3_S50_F4245</th>\n",
       "      <th>L3_S50_F4247</th>\n",
       "      <th>L3_S50_F4249</th>\n",
       "      <th>L3_S50_F4251</th>\n",
       "      <th>L3_S50_F4253</th>\n",
       "      <th>L3_S51_F4256</th>\n",
       "      <th>L3_S51_F4258</th>\n",
       "      <th>L3_S51_F4260</th>\n",
       "      <th>L3_S51_F4262</th>\n",
       "      <th>Response</th>\n",
       "    </tr>\n",
       "  </thead>\n",
       "  <tbody>\n",
       "    <tr>\n",
       "      <th>101</th>\n",
       "      <td>208</td>\n",
       "      <td>0.128</td>\n",
       "      <td>0.108</td>\n",
       "      <td>-0.197</td>\n",
       "      <td>-0.161</td>\n",
       "      <td>0.161</td>\n",
       "      <td>0.025</td>\n",
       "      <td>-0.030</td>\n",
       "      <td>-0.152</td>\n",
       "      <td>0.000</td>\n",
       "      <td>...</td>\n",
       "      <td>NaN</td>\n",
       "      <td>NaN</td>\n",
       "      <td>NaN</td>\n",
       "      <td>NaN</td>\n",
       "      <td>NaN</td>\n",
       "      <td>NaN</td>\n",
       "      <td>NaN</td>\n",
       "      <td>NaN</td>\n",
       "      <td>NaN</td>\n",
       "      <td>0</td>\n",
       "    </tr>\n",
       "    <tr>\n",
       "      <th>122</th>\n",
       "      <td>256</td>\n",
       "      <td>-0.036</td>\n",
       "      <td>-0.108</td>\n",
       "      <td>0.294</td>\n",
       "      <td>0.294</td>\n",
       "      <td>-0.056</td>\n",
       "      <td>0.070</td>\n",
       "      <td>0.022</td>\n",
       "      <td>0.208</td>\n",
       "      <td>-0.046</td>\n",
       "      <td>...</td>\n",
       "      <td>NaN</td>\n",
       "      <td>NaN</td>\n",
       "      <td>NaN</td>\n",
       "      <td>NaN</td>\n",
       "      <td>NaN</td>\n",
       "      <td>NaN</td>\n",
       "      <td>NaN</td>\n",
       "      <td>NaN</td>\n",
       "      <td>NaN</td>\n",
       "      <td>0</td>\n",
       "    </tr>\n",
       "    <tr>\n",
       "      <th>166</th>\n",
       "      <td>337</td>\n",
       "      <td>-0.062</td>\n",
       "      <td>-0.034</td>\n",
       "      <td>0.348</td>\n",
       "      <td>0.330</td>\n",
       "      <td>-0.013</td>\n",
       "      <td>0.070</td>\n",
       "      <td>0.030</td>\n",
       "      <td>0.128</td>\n",
       "      <td>0.015</td>\n",
       "      <td>...</td>\n",
       "      <td>NaN</td>\n",
       "      <td>NaN</td>\n",
       "      <td>NaN</td>\n",
       "      <td>NaN</td>\n",
       "      <td>NaN</td>\n",
       "      <td>NaN</td>\n",
       "      <td>NaN</td>\n",
       "      <td>NaN</td>\n",
       "      <td>NaN</td>\n",
       "      <td>0</td>\n",
       "    </tr>\n",
       "    <tr>\n",
       "      <th>274</th>\n",
       "      <td>527</td>\n",
       "      <td>-0.153</td>\n",
       "      <td>-0.198</td>\n",
       "      <td>0.312</td>\n",
       "      <td>0.330</td>\n",
       "      <td>0.031</td>\n",
       "      <td>-0.203</td>\n",
       "      <td>0.052</td>\n",
       "      <td>0.288</td>\n",
       "      <td>-0.067</td>\n",
       "      <td>...</td>\n",
       "      <td>NaN</td>\n",
       "      <td>NaN</td>\n",
       "      <td>NaN</td>\n",
       "      <td>NaN</td>\n",
       "      <td>NaN</td>\n",
       "      <td>NaN</td>\n",
       "      <td>NaN</td>\n",
       "      <td>NaN</td>\n",
       "      <td>NaN</td>\n",
       "      <td>0</td>\n",
       "    </tr>\n",
       "    <tr>\n",
       "      <th>539</th>\n",
       "      <td>1053</td>\n",
       "      <td>NaN</td>\n",
       "      <td>NaN</td>\n",
       "      <td>NaN</td>\n",
       "      <td>NaN</td>\n",
       "      <td>NaN</td>\n",
       "      <td>NaN</td>\n",
       "      <td>NaN</td>\n",
       "      <td>NaN</td>\n",
       "      <td>NaN</td>\n",
       "      <td>...</td>\n",
       "      <td>NaN</td>\n",
       "      <td>NaN</td>\n",
       "      <td>NaN</td>\n",
       "      <td>NaN</td>\n",
       "      <td>NaN</td>\n",
       "      <td>NaN</td>\n",
       "      <td>NaN</td>\n",
       "      <td>NaN</td>\n",
       "      <td>NaN</td>\n",
       "      <td>1</td>\n",
       "    </tr>\n",
       "  </tbody>\n",
       "</table>\n",
       "<p>5 rows × 970 columns</p>\n",
       "</div>"
      ],
      "text/plain": [
       "       Id  L0_S0_F0  L0_S0_F2  L0_S0_F4  L0_S0_F6  L0_S0_F8  L0_S0_F10  \\\n",
       "101   208     0.128     0.108    -0.197    -0.161     0.161      0.025   \n",
       "122   256    -0.036    -0.108     0.294     0.294    -0.056      0.070   \n",
       "166   337    -0.062    -0.034     0.348     0.330    -0.013      0.070   \n",
       "274   527    -0.153    -0.198     0.312     0.330     0.031     -0.203   \n",
       "539  1053       NaN       NaN       NaN       NaN       NaN        NaN   \n",
       "\n",
       "     L0_S0_F12  L0_S0_F14  L0_S0_F16    ...     L3_S50_F4245  L3_S50_F4247  \\\n",
       "101     -0.030     -0.152      0.000    ...              NaN           NaN   \n",
       "122      0.022      0.208     -0.046    ...              NaN           NaN   \n",
       "166      0.030      0.128      0.015    ...              NaN           NaN   \n",
       "274      0.052      0.288     -0.067    ...              NaN           NaN   \n",
       "539        NaN        NaN        NaN    ...              NaN           NaN   \n",
       "\n",
       "     L3_S50_F4249  L3_S50_F4251  L3_S50_F4253  L3_S51_F4256  L3_S51_F4258  \\\n",
       "101           NaN           NaN           NaN           NaN           NaN   \n",
       "122           NaN           NaN           NaN           NaN           NaN   \n",
       "166           NaN           NaN           NaN           NaN           NaN   \n",
       "274           NaN           NaN           NaN           NaN           NaN   \n",
       "539           NaN           NaN           NaN           NaN           NaN   \n",
       "\n",
       "     L3_S51_F4260  L3_S51_F4262  Response  \n",
       "101           NaN           NaN         0  \n",
       "122           NaN           NaN         0  \n",
       "166           NaN           NaN         0  \n",
       "274           NaN           NaN         0  \n",
       "539           NaN           NaN         1  \n",
       "\n",
       "[5 rows x 970 columns]"
      ]
     },
     "execution_count": 78,
     "metadata": {},
     "output_type": "execute_result"
    },
    {
     "name": "stdout",
     "output_type": "stream",
     "text": [
      "time: 110 ms\n"
     ]
    }
   ],
   "source": [
    "sample_num.head()"
   ]
  },
  {
   "cell_type": "markdown",
   "metadata": {},
   "source": [
    "#### Percentage of information available"
   ]
  },
  {
   "cell_type": "code",
   "execution_count": 79,
   "metadata": {},
   "outputs": [
    {
     "data": {
      "text/markdown": [
       "### 0.190673069339"
      ],
      "text/plain": [
       "<IPython.core.display.Markdown object>"
      ]
     },
     "metadata": {},
     "output_type": "display_data"
    },
    {
     "name": "stdout",
     "output_type": "stream",
     "text": [
      "time: 329 ms\n"
     ]
    }
   ],
   "source": [
    "printmd('### '+str(1.0 * sample_num.count().sum() / sample_num.size))"
   ]
  },
  {
   "cell_type": "markdown",
   "metadata": {},
   "source": [
    "### Load Categorical Sample Data"
   ]
  },
  {
   "cell_type": "markdown",
   "metadata": {},
   "source": [
    "```\n",
    "sample_cat = pd.DataFrame() \n",
    "for i in tqdm(range(1,25)):\n",
    "    train_cat_part = pd.read_csv('C:\\\\Users\\\\sushant\\\\Documents\\\\New Start\\\\Datasets\\\\Bosch\\\\Chunks\\\\Categorical\\\\train_'+str(i)+'.gzip', chunksize=rlimit,compression='gzip')\n",
    "    for chunk in train_cat_part:\n",
    "        sample_cat=sample_cat.append(chunk[chunk['Id'].isin(tot_samp_id)])\n",
    "        del chunk\n",
    "```"
   ]
  },
  {
   "cell_type": "markdown",
   "metadata": {},
   "source": [
    "### Load Date data for corrosponding sample Ids"
   ]
  },
  {
   "cell_type": "code",
   "execution_count": 80,
   "metadata": {},
   "outputs": [
    {
     "name": "stderr",
     "output_type": "stream",
     "text": [
      "100%|████████████████████████████████████████████████████████████████████████████████| 119/119 [02:55<00:00,  1.23s/it]\n"
     ]
    },
    {
     "name": "stdout",
     "output_type": "stream",
     "text": [
      "time: 2min 56s\n"
     ]
    }
   ],
   "source": [
    "sample_date = pd.DataFrame() \n",
    "for i in tqdm(range(1,120)):\n",
    "    train_date_part = pd.read_csv('C:\\\\Users\\\\sushant\\\\Documents\\\\New Start\\\\Datasets\\\\Bosch\\\\Chunks\\\\Date\\\\train_'+str(i)+'.gzip', chunksize=rlimit,compression='gzip')\n",
    "    for chunk in train_date_part:\n",
    "        sample_date=sample_date.append(chunk[chunk['Id'].isin(tot_samp_id)])\n",
    "        del chunk"
   ]
  },
  {
   "cell_type": "code",
   "execution_count": 81,
   "metadata": {},
   "outputs": [
    {
     "name": "stdout",
     "output_type": "stream",
     "text": [
      "<class 'pandas.core.frame.DataFrame'>\n",
      "Int64Index: 9019 entries, 101 to 3488\n",
      "Columns: 1157 entries, Id to L3_S51_D4263\n",
      "dtypes: float64(1156), int64(1)\n",
      "memory usage: 79.7 MB\n",
      "time: 77 ms\n"
     ]
    }
   ],
   "source": [
    "sample_date.info()"
   ]
  },
  {
   "cell_type": "code",
   "execution_count": 82,
   "metadata": {},
   "outputs": [
    {
     "data": {
      "text/html": [
       "<div>\n",
       "<table border=\"1\" class=\"dataframe\">\n",
       "  <thead>\n",
       "    <tr style=\"text-align: right;\">\n",
       "      <th></th>\n",
       "      <th>Id</th>\n",
       "      <th>L0_S0_D1</th>\n",
       "      <th>L0_S0_D3</th>\n",
       "      <th>L0_S0_D5</th>\n",
       "      <th>L0_S0_D7</th>\n",
       "      <th>L0_S0_D9</th>\n",
       "      <th>L0_S0_D11</th>\n",
       "      <th>L0_S0_D13</th>\n",
       "      <th>L0_S0_D15</th>\n",
       "      <th>L0_S0_D17</th>\n",
       "      <th>...</th>\n",
       "      <th>L3_S50_D4246</th>\n",
       "      <th>L3_S50_D4248</th>\n",
       "      <th>L3_S50_D4250</th>\n",
       "      <th>L3_S50_D4252</th>\n",
       "      <th>L3_S50_D4254</th>\n",
       "      <th>L3_S51_D4255</th>\n",
       "      <th>L3_S51_D4257</th>\n",
       "      <th>L3_S51_D4259</th>\n",
       "      <th>L3_S51_D4261</th>\n",
       "      <th>L3_S51_D4263</th>\n",
       "    </tr>\n",
       "  </thead>\n",
       "  <tbody>\n",
       "    <tr>\n",
       "      <th>101</th>\n",
       "      <td>208</td>\n",
       "      <td>168.47</td>\n",
       "      <td>168.47</td>\n",
       "      <td>168.47</td>\n",
       "      <td>168.47</td>\n",
       "      <td>168.47</td>\n",
       "      <td>168.47</td>\n",
       "      <td>168.47</td>\n",
       "      <td>168.47</td>\n",
       "      <td>168.47</td>\n",
       "      <td>...</td>\n",
       "      <td>NaN</td>\n",
       "      <td>NaN</td>\n",
       "      <td>NaN</td>\n",
       "      <td>NaN</td>\n",
       "      <td>NaN</td>\n",
       "      <td>NaN</td>\n",
       "      <td>NaN</td>\n",
       "      <td>NaN</td>\n",
       "      <td>NaN</td>\n",
       "      <td>NaN</td>\n",
       "    </tr>\n",
       "    <tr>\n",
       "      <th>122</th>\n",
       "      <td>256</td>\n",
       "      <td>1112.99</td>\n",
       "      <td>1112.99</td>\n",
       "      <td>1112.99</td>\n",
       "      <td>1112.99</td>\n",
       "      <td>1112.99</td>\n",
       "      <td>1112.99</td>\n",
       "      <td>1112.99</td>\n",
       "      <td>1112.99</td>\n",
       "      <td>1112.99</td>\n",
       "      <td>...</td>\n",
       "      <td>NaN</td>\n",
       "      <td>NaN</td>\n",
       "      <td>NaN</td>\n",
       "      <td>NaN</td>\n",
       "      <td>NaN</td>\n",
       "      <td>NaN</td>\n",
       "      <td>NaN</td>\n",
       "      <td>NaN</td>\n",
       "      <td>NaN</td>\n",
       "      <td>NaN</td>\n",
       "    </tr>\n",
       "    <tr>\n",
       "      <th>166</th>\n",
       "      <td>337</td>\n",
       "      <td>1115.18</td>\n",
       "      <td>1115.18</td>\n",
       "      <td>1115.18</td>\n",
       "      <td>1115.18</td>\n",
       "      <td>1115.18</td>\n",
       "      <td>1115.18</td>\n",
       "      <td>1115.18</td>\n",
       "      <td>1115.18</td>\n",
       "      <td>1115.18</td>\n",
       "      <td>...</td>\n",
       "      <td>NaN</td>\n",
       "      <td>NaN</td>\n",
       "      <td>NaN</td>\n",
       "      <td>NaN</td>\n",
       "      <td>NaN</td>\n",
       "      <td>NaN</td>\n",
       "      <td>NaN</td>\n",
       "      <td>NaN</td>\n",
       "      <td>NaN</td>\n",
       "      <td>NaN</td>\n",
       "    </tr>\n",
       "    <tr>\n",
       "      <th>274</th>\n",
       "      <td>527</td>\n",
       "      <td>1566.22</td>\n",
       "      <td>1566.22</td>\n",
       "      <td>1566.22</td>\n",
       "      <td>1566.22</td>\n",
       "      <td>1566.22</td>\n",
       "      <td>1566.22</td>\n",
       "      <td>1566.22</td>\n",
       "      <td>1566.22</td>\n",
       "      <td>1566.22</td>\n",
       "      <td>...</td>\n",
       "      <td>NaN</td>\n",
       "      <td>NaN</td>\n",
       "      <td>NaN</td>\n",
       "      <td>NaN</td>\n",
       "      <td>NaN</td>\n",
       "      <td>NaN</td>\n",
       "      <td>NaN</td>\n",
       "      <td>NaN</td>\n",
       "      <td>NaN</td>\n",
       "      <td>NaN</td>\n",
       "    </tr>\n",
       "    <tr>\n",
       "      <th>539</th>\n",
       "      <td>1053</td>\n",
       "      <td>NaN</td>\n",
       "      <td>NaN</td>\n",
       "      <td>NaN</td>\n",
       "      <td>NaN</td>\n",
       "      <td>NaN</td>\n",
       "      <td>NaN</td>\n",
       "      <td>NaN</td>\n",
       "      <td>NaN</td>\n",
       "      <td>NaN</td>\n",
       "      <td>...</td>\n",
       "      <td>NaN</td>\n",
       "      <td>NaN</td>\n",
       "      <td>NaN</td>\n",
       "      <td>NaN</td>\n",
       "      <td>NaN</td>\n",
       "      <td>NaN</td>\n",
       "      <td>NaN</td>\n",
       "      <td>NaN</td>\n",
       "      <td>NaN</td>\n",
       "      <td>NaN</td>\n",
       "    </tr>\n",
       "  </tbody>\n",
       "</table>\n",
       "<p>5 rows × 1157 columns</p>\n",
       "</div>"
      ],
      "text/plain": [
       "       Id  L0_S0_D1  L0_S0_D3  L0_S0_D5  L0_S0_D7  L0_S0_D9  L0_S0_D11  \\\n",
       "101   208    168.47    168.47    168.47    168.47    168.47     168.47   \n",
       "122   256   1112.99   1112.99   1112.99   1112.99   1112.99    1112.99   \n",
       "166   337   1115.18   1115.18   1115.18   1115.18   1115.18    1115.18   \n",
       "274   527   1566.22   1566.22   1566.22   1566.22   1566.22    1566.22   \n",
       "539  1053       NaN       NaN       NaN       NaN       NaN        NaN   \n",
       "\n",
       "     L0_S0_D13  L0_S0_D15  L0_S0_D17      ...       L3_S50_D4246  \\\n",
       "101     168.47     168.47     168.47      ...                NaN   \n",
       "122    1112.99    1112.99    1112.99      ...                NaN   \n",
       "166    1115.18    1115.18    1115.18      ...                NaN   \n",
       "274    1566.22    1566.22    1566.22      ...                NaN   \n",
       "539        NaN        NaN        NaN      ...                NaN   \n",
       "\n",
       "     L3_S50_D4248  L3_S50_D4250  L3_S50_D4252  L3_S50_D4254  L3_S51_D4255  \\\n",
       "101           NaN           NaN           NaN           NaN           NaN   \n",
       "122           NaN           NaN           NaN           NaN           NaN   \n",
       "166           NaN           NaN           NaN           NaN           NaN   \n",
       "274           NaN           NaN           NaN           NaN           NaN   \n",
       "539           NaN           NaN           NaN           NaN           NaN   \n",
       "\n",
       "     L3_S51_D4257  L3_S51_D4259  L3_S51_D4261  L3_S51_D4263  \n",
       "101           NaN           NaN           NaN           NaN  \n",
       "122           NaN           NaN           NaN           NaN  \n",
       "166           NaN           NaN           NaN           NaN  \n",
       "274           NaN           NaN           NaN           NaN  \n",
       "539           NaN           NaN           NaN           NaN  \n",
       "\n",
       "[5 rows x 1157 columns]"
      ]
     },
     "execution_count": 82,
     "metadata": {},
     "output_type": "execute_result"
    },
    {
     "name": "stdout",
     "output_type": "stream",
     "text": [
      "time: 42 ms\n"
     ]
    }
   ],
   "source": [
    "sample_date.head()"
   ]
  },
  {
   "cell_type": "code",
   "execution_count": 83,
   "metadata": {},
   "outputs": [
    {
     "name": "stdout",
     "output_type": "stream",
     "text": [
      "time: 131 ms\n"
     ]
    }
   ],
   "source": [
    "#sample_cat.head()"
   ]
  },
  {
   "cell_type": "code",
   "execution_count": 84,
   "metadata": {},
   "outputs": [
    {
     "data": {
      "text/html": [
       "<div>\n",
       "<table border=\"1\" class=\"dataframe\">\n",
       "  <thead>\n",
       "    <tr style=\"text-align: right;\">\n",
       "      <th></th>\n",
       "      <th>Id</th>\n",
       "      <th>L0_S0_F0</th>\n",
       "      <th>L0_S0_F2</th>\n",
       "      <th>L0_S0_F4</th>\n",
       "      <th>L0_S0_F6</th>\n",
       "      <th>L0_S0_F8</th>\n",
       "      <th>L0_S0_F10</th>\n",
       "      <th>L0_S0_F12</th>\n",
       "      <th>L0_S0_F14</th>\n",
       "      <th>L0_S0_F16</th>\n",
       "      <th>...</th>\n",
       "      <th>L3_S50_F4245</th>\n",
       "      <th>L3_S50_F4247</th>\n",
       "      <th>L3_S50_F4249</th>\n",
       "      <th>L3_S50_F4251</th>\n",
       "      <th>L3_S50_F4253</th>\n",
       "      <th>L3_S51_F4256</th>\n",
       "      <th>L3_S51_F4258</th>\n",
       "      <th>L3_S51_F4260</th>\n",
       "      <th>L3_S51_F4262</th>\n",
       "      <th>Response</th>\n",
       "    </tr>\n",
       "  </thead>\n",
       "  <tbody>\n",
       "    <tr>\n",
       "      <th>101</th>\n",
       "      <td>208</td>\n",
       "      <td>0.128</td>\n",
       "      <td>0.108</td>\n",
       "      <td>-0.197</td>\n",
       "      <td>-0.161</td>\n",
       "      <td>0.161</td>\n",
       "      <td>0.025</td>\n",
       "      <td>-0.030</td>\n",
       "      <td>-0.152</td>\n",
       "      <td>0.000</td>\n",
       "      <td>...</td>\n",
       "      <td>NaN</td>\n",
       "      <td>NaN</td>\n",
       "      <td>NaN</td>\n",
       "      <td>NaN</td>\n",
       "      <td>NaN</td>\n",
       "      <td>NaN</td>\n",
       "      <td>NaN</td>\n",
       "      <td>NaN</td>\n",
       "      <td>NaN</td>\n",
       "      <td>0</td>\n",
       "    </tr>\n",
       "    <tr>\n",
       "      <th>122</th>\n",
       "      <td>256</td>\n",
       "      <td>-0.036</td>\n",
       "      <td>-0.108</td>\n",
       "      <td>0.294</td>\n",
       "      <td>0.294</td>\n",
       "      <td>-0.056</td>\n",
       "      <td>0.070</td>\n",
       "      <td>0.022</td>\n",
       "      <td>0.208</td>\n",
       "      <td>-0.046</td>\n",
       "      <td>...</td>\n",
       "      <td>NaN</td>\n",
       "      <td>NaN</td>\n",
       "      <td>NaN</td>\n",
       "      <td>NaN</td>\n",
       "      <td>NaN</td>\n",
       "      <td>NaN</td>\n",
       "      <td>NaN</td>\n",
       "      <td>NaN</td>\n",
       "      <td>NaN</td>\n",
       "      <td>0</td>\n",
       "    </tr>\n",
       "    <tr>\n",
       "      <th>166</th>\n",
       "      <td>337</td>\n",
       "      <td>-0.062</td>\n",
       "      <td>-0.034</td>\n",
       "      <td>0.348</td>\n",
       "      <td>0.330</td>\n",
       "      <td>-0.013</td>\n",
       "      <td>0.070</td>\n",
       "      <td>0.030</td>\n",
       "      <td>0.128</td>\n",
       "      <td>0.015</td>\n",
       "      <td>...</td>\n",
       "      <td>NaN</td>\n",
       "      <td>NaN</td>\n",
       "      <td>NaN</td>\n",
       "      <td>NaN</td>\n",
       "      <td>NaN</td>\n",
       "      <td>NaN</td>\n",
       "      <td>NaN</td>\n",
       "      <td>NaN</td>\n",
       "      <td>NaN</td>\n",
       "      <td>0</td>\n",
       "    </tr>\n",
       "    <tr>\n",
       "      <th>274</th>\n",
       "      <td>527</td>\n",
       "      <td>-0.153</td>\n",
       "      <td>-0.198</td>\n",
       "      <td>0.312</td>\n",
       "      <td>0.330</td>\n",
       "      <td>0.031</td>\n",
       "      <td>-0.203</td>\n",
       "      <td>0.052</td>\n",
       "      <td>0.288</td>\n",
       "      <td>-0.067</td>\n",
       "      <td>...</td>\n",
       "      <td>NaN</td>\n",
       "      <td>NaN</td>\n",
       "      <td>NaN</td>\n",
       "      <td>NaN</td>\n",
       "      <td>NaN</td>\n",
       "      <td>NaN</td>\n",
       "      <td>NaN</td>\n",
       "      <td>NaN</td>\n",
       "      <td>NaN</td>\n",
       "      <td>0</td>\n",
       "    </tr>\n",
       "    <tr>\n",
       "      <th>539</th>\n",
       "      <td>1053</td>\n",
       "      <td>NaN</td>\n",
       "      <td>NaN</td>\n",
       "      <td>NaN</td>\n",
       "      <td>NaN</td>\n",
       "      <td>NaN</td>\n",
       "      <td>NaN</td>\n",
       "      <td>NaN</td>\n",
       "      <td>NaN</td>\n",
       "      <td>NaN</td>\n",
       "      <td>...</td>\n",
       "      <td>NaN</td>\n",
       "      <td>NaN</td>\n",
       "      <td>NaN</td>\n",
       "      <td>NaN</td>\n",
       "      <td>NaN</td>\n",
       "      <td>NaN</td>\n",
       "      <td>NaN</td>\n",
       "      <td>NaN</td>\n",
       "      <td>NaN</td>\n",
       "      <td>1</td>\n",
       "    </tr>\n",
       "  </tbody>\n",
       "</table>\n",
       "<p>5 rows × 970 columns</p>\n",
       "</div>"
      ],
      "text/plain": [
       "       Id  L0_S0_F0  L0_S0_F2  L0_S0_F4  L0_S0_F6  L0_S0_F8  L0_S0_F10  \\\n",
       "101   208     0.128     0.108    -0.197    -0.161     0.161      0.025   \n",
       "122   256    -0.036    -0.108     0.294     0.294    -0.056      0.070   \n",
       "166   337    -0.062    -0.034     0.348     0.330    -0.013      0.070   \n",
       "274   527    -0.153    -0.198     0.312     0.330     0.031     -0.203   \n",
       "539  1053       NaN       NaN       NaN       NaN       NaN        NaN   \n",
       "\n",
       "     L0_S0_F12  L0_S0_F14  L0_S0_F16    ...     L3_S50_F4245  L3_S50_F4247  \\\n",
       "101     -0.030     -0.152      0.000    ...              NaN           NaN   \n",
       "122      0.022      0.208     -0.046    ...              NaN           NaN   \n",
       "166      0.030      0.128      0.015    ...              NaN           NaN   \n",
       "274      0.052      0.288     -0.067    ...              NaN           NaN   \n",
       "539        NaN        NaN        NaN    ...              NaN           NaN   \n",
       "\n",
       "     L3_S50_F4249  L3_S50_F4251  L3_S50_F4253  L3_S51_F4256  L3_S51_F4258  \\\n",
       "101           NaN           NaN           NaN           NaN           NaN   \n",
       "122           NaN           NaN           NaN           NaN           NaN   \n",
       "166           NaN           NaN           NaN           NaN           NaN   \n",
       "274           NaN           NaN           NaN           NaN           NaN   \n",
       "539           NaN           NaN           NaN           NaN           NaN   \n",
       "\n",
       "     L3_S51_F4260  L3_S51_F4262  Response  \n",
       "101           NaN           NaN         0  \n",
       "122           NaN           NaN         0  \n",
       "166           NaN           NaN         0  \n",
       "274           NaN           NaN         0  \n",
       "539           NaN           NaN         1  \n",
       "\n",
       "[5 rows x 970 columns]"
      ]
     },
     "execution_count": 84,
     "metadata": {},
     "output_type": "execute_result"
    },
    {
     "name": "stdout",
     "output_type": "stream",
     "text": [
      "time: 180 ms\n"
     ]
    }
   ],
   "source": [
    "sample_num.head()"
   ]
  },
  {
   "cell_type": "markdown",
   "metadata": {},
   "source": [
    "# Confirm writing Directory and File"
   ]
  },
  {
   "cell_type": "code",
   "execution_count": 85,
   "metadata": {},
   "outputs": [
    {
     "ename": "SyntaxError",
     "evalue": "invalid syntax (<ipython-input-85-8cf8463b34ca>, line 1)",
     "output_type": "error",
     "traceback": [
      "\u001b[1;36m  File \u001b[1;32m\"<ipython-input-85-8cf8463b34ca>\"\u001b[1;36m, line \u001b[1;32m1\u001b[0m\n\u001b[1;33m    .\u001b[0m\n\u001b[1;37m    ^\u001b[0m\n\u001b[1;31mSyntaxError\u001b[0m\u001b[1;31m:\u001b[0m invalid syntax\n"
     ]
    }
   ],
   "source": [
    "."
   ]
  },
  {
   "cell_type": "markdown",
   "metadata": {},
   "source": [
    "### Write Samples to CSV"
   ]
  },
  {
   "cell_type": "code",
   "execution_count": 86,
   "metadata": {},
   "outputs": [
    {
     "name": "stdout",
     "output_type": "stream",
     "text": [
      "time: 8.15 s\n"
     ]
    }
   ],
   "source": [
    "sample_num.to_csv('C:\\\\Users\\\\sushant\\\\Documents\\\\New Start\\\\Datasets\\\\Bosch\\\\Samples\\\\sample_num_bal7.csv')\n",
    "sample_date.to_csv('C:\\\\Users\\\\sushant\\\\Documents\\\\New Start\\\\Datasets\\\\Bosch\\\\Samples\\\\sample_date_bal7.csv')"
   ]
  },
  {
   "cell_type": "code",
   "execution_count": null,
   "metadata": {
    "collapsed": true
   },
   "outputs": [],
   "source": []
  },
  {
   "cell_type": "markdown",
   "metadata": {},
   "source": [
    "sample_num.iloc[[223]].dropna(axis=1)"
   ]
  },
  {
   "cell_type": "markdown",
   "metadata": {},
   "source": [
    "sample_cat.iloc[[223]].dropna(axis=1)"
   ]
  },
  {
   "cell_type": "markdown",
   "metadata": {},
   "source": [
    "sample_date.iloc[[223]].dropna(axis=1)"
   ]
  },
  {
   "cell_type": "markdown",
   "metadata": {},
   "source": [
    "sample_cat.iloc[:,6].value_counts()"
   ]
  },
  {
   "cell_type": "markdown",
   "metadata": {},
   "source": [
    "```\n",
    "uVal=[]\n",
    "sample_cat_feat = sample_cat.columns.values.tolist()\n",
    "sample_cat_feat.remove('Id')\n",
    "j=0\n",
    "for i in sample_cat_feat:\n",
    "    uVal.extend(set(sample_cat[i].dropna().values.tolist()))\n",
    "    j=j+1\n",
    "    #print i\n",
    "    #if j==2:\n",
    "        #break\n",
    "        ```"
   ]
  },
  {
   "cell_type": "markdown",
   "metadata": {
    "collapsed": true
   },
   "source": [
    "#uVal=list(set(uVal))\n",
    "#uVal"
   ]
  },
  {
   "cell_type": "markdown",
   "metadata": {
    "collapsed": true
   },
   "source": [
    "#[i for i in [''.join(i.split('-')) for i in uVal]]"
   ]
  },
  {
   "cell_type": "markdown",
   "metadata": {
    "collapsed": true
   },
   "source": [
    "#set(sample_cat['L3_S47_F4146'].dropna().values.tolist())"
   ]
  },
  {
   "cell_type": "markdown",
   "metadata": {
    "collapsed": true
   },
   "source": [
    "#set(sample_cat.columns.values.tolist()).intersection(set(sample_num.columns.values.tolist()))"
   ]
  },
  {
   "cell_type": "markdown",
   "metadata": {
    "collapsed": true
   },
   "source": [
    "#sample_cat['L3_S32_F3851'].unique()"
   ]
  },
  {
   "cell_type": "code",
   "execution_count": null,
   "metadata": {
    "collapsed": true
   },
   "outputs": [],
   "source": []
  }
 ],
 "metadata": {
  "anaconda-cloud": {},
  "kernelspec": {
   "display_name": "Python [Root]",
   "language": "python",
   "name": "Python [Root]"
  },
  "language_info": {
   "codemirror_mode": {
    "name": "ipython",
    "version": 2
   },
   "file_extension": ".py",
   "mimetype": "text/x-python",
   "name": "python",
   "nbconvert_exporter": "python",
   "pygments_lexer": "ipython2",
   "version": "2.7.12"
  }
 },
 "nbformat": 4,
 "nbformat_minor": 1
}
