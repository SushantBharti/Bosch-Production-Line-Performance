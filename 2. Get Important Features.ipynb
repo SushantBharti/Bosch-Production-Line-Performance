{
 "cells": [
  {
   "cell_type": "code",
   "execution_count": 2,
   "metadata": {},
   "outputs": [
    {
     "name": "stderr",
     "output_type": "stream",
     "text": [
      "C:\\Users\\sushant\\Anaconda2\\lib\\site-packages\\sklearn\\cross_validation.py:44: DeprecationWarning: This module was deprecated in version 0.18 in favor of the model_selection module into which all the refactored classes and functions are moved. Also note that the interface of the new CV iterators are different from that of this module. This module will be removed in 0.20.\n",
      "  \"This module will be removed in 0.20.\", DeprecationWarning)\n"
     ]
    }
   ],
   "source": [
    "import pandas as pd\n",
    "import numpy as np\n",
    "import os\n",
    "import scipy\n",
    "import itertools\n",
    "#os.environ['XGBOOST_BUILD_DOC'] = 'C:\\\\Users\\\\sushant\\\\Anaconda2\\\\lib\\\\site-packages\\\\xgboost;'\n",
    "import matplotlib.pyplot as plt    \n",
    "import xgboost\n",
    "iv=['np'\t, 'os'\t ,'pd'\t, 'plt'\t ,'tqdm'\t, 'train'\t ,'train_date'\t, 'train_date_num'\t, 'train_num'\t ]\n",
    "def memchk(iv):\n",
    "    import sys,operator\n",
    "    ipython_vars=iv\n",
    "    ,'warnings'\t, 'xgboost']\n",
    "    print sorted([(x, sys.getsizeof(globals().get(x))) for x in dir() if not x.startswith('_') and x not in sys.modules and x not in ipython_vars], key=lambda x: x[1], reverse=True)\n",
    "    return sorted([{i:sys.getsizeof(globals().get(i))/1000000.0} for i in ipython_vars])\n",
    "%matplotlib inline\n",
    "from IPython.display import Markdown, display\n",
    "from sklearn.metrics import confusion_matrix\n",
    "import warnings\n",
    "%load_ext autotime\n",
    "def printmd(string):\n",
    "    display(Markdown(string))\n",
    "\n",
    "warnings.filterwarnings('ignore')\n",
    "from tqdm import tqdm"
   ]
  },
  {
   "cell_type": "code",
   "execution_count": 2,
   "metadata": {},
   "outputs": [
    {
     "name": "stdout",
     "output_type": "stream",
     "text": [
      "time: 21 ms\n"
     ]
    }
   ],
   "source": [
    "def plot_confusion_matrix(cm, classes,\n",
    "                          normalize=False,\n",
    "                          title='Confusion matrix',\n",
    "                          cmap=plt.cm.Blues):\n",
    "    \"\"\"\n",
    "    This function prints and plots the confusion matrix.\n",
    "    Normalization can be applied by setting `normalize=True`.\n",
    "    \"\"\"\n",
    "    plt.imshow(cm, interpolation='nearest', cmap=cmap)\n",
    "    plt.title(title)\n",
    "    plt.colorbar()\n",
    "    tick_marks = np.arange(len(classes))\n",
    "    plt.xticks(tick_marks, classes, rotation=45)\n",
    "    plt.yticks(tick_marks, classes)\n",
    "\n",
    "    if normalize:\n",
    "        cm = cm.astype('float') / cm.sum(axis=1)[:, np.newaxis]\n",
    "        print(\"Normalized confusion matrix\")\n",
    "    else:\n",
    "        print('Confusion matrix, without normalization')\n",
    "\n",
    "    print(cm)\n",
    "\n",
    "    thresh = cm.max() / 2.\n",
    "    for i, j in itertools.product(range(cm.shape[0]), range(cm.shape[1])):\n",
    "        plt.text(j, i, cm[i, j],\n",
    "                 horizontalalignment=\"center\",\n",
    "                 color=\"white\" if cm[i, j] > thresh else \"black\")\n",
    "\n",
    "    plt.tight_layout()\n",
    "    plt.ylabel('True label')\n",
    "    plt.xlabel('Predicted label')\n"
   ]
  },
  {
   "cell_type": "markdown",
   "metadata": {
    "collapsed": true
   },
   "source": [
    "### Load sample numeric and date \n",
    "#### First 10000"
   ]
  },
  {
   "cell_type": "code",
   "execution_count": 43,
   "metadata": {},
   "outputs": [
    {
     "name": "stdout",
     "output_type": "stream",
     "text": [
      "time: 2.76 s\n"
     ]
    }
   ],
   "source": [
    "train_num = pd.read_csv('C:\\\\Users\\\\sushant\\\\Documents\\\\New Start\\\\Datasets\\\\Bosch\\\\Samples\\\\sample_num_bal8.csv',dtype=np.float32).head(10000).set_index('Unnamed: 0')\n",
    "#train_cat = pd.read_csv('sample_cat.csv').head().set_index('Unnamed: 0')\n",
    "train_date = pd.read_csv('C:\\\\Users\\\\sushant\\\\Documents\\\\New Start\\\\Datasets\\\\Bosch\\\\Samples\\\\sample_date_bal8.csv',dtype=np.float32).head(10000).set_index('Unnamed: 0')"
   ]
  },
  {
   "cell_type": "code",
   "execution_count": 44,
   "metadata": {},
   "outputs": [
    {
     "name": "stdout",
     "output_type": "stream",
     "text": [
      "<class 'pandas.core.frame.DataFrame'>\n",
      "Float64Index: 9030 entries, 168.0 to 83406.0\n",
      "Columns: 970 entries, Id to Response\n",
      "dtypes: float32(970)\n",
      "memory usage: 33.5 MB\n",
      "time: 88 ms\n"
     ]
    }
   ],
   "source": [
    "train_num.info()"
   ]
  },
  {
   "cell_type": "code",
   "execution_count": 45,
   "metadata": {},
   "outputs": [
    {
     "data": {
      "text/html": [
       "<div>\n",
       "<table border=\"1\" class=\"dataframe\">\n",
       "  <thead>\n",
       "    <tr style=\"text-align: right;\">\n",
       "      <th></th>\n",
       "      <th>Id</th>\n",
       "      <th>L0_S0_F0</th>\n",
       "      <th>L0_S0_F2</th>\n",
       "      <th>L0_S0_F4</th>\n",
       "      <th>L0_S0_F6</th>\n",
       "      <th>L0_S0_F8</th>\n",
       "      <th>L0_S0_F10</th>\n",
       "      <th>L0_S0_F12</th>\n",
       "      <th>L0_S0_F14</th>\n",
       "      <th>L0_S0_F16</th>\n",
       "      <th>...</th>\n",
       "      <th>L3_S50_F4245</th>\n",
       "      <th>L3_S50_F4247</th>\n",
       "      <th>L3_S50_F4249</th>\n",
       "      <th>L3_S50_F4251</th>\n",
       "      <th>L3_S50_F4253</th>\n",
       "      <th>L3_S51_F4256</th>\n",
       "      <th>L3_S51_F4258</th>\n",
       "      <th>L3_S51_F4260</th>\n",
       "      <th>L3_S51_F4262</th>\n",
       "      <th>Response</th>\n",
       "    </tr>\n",
       "    <tr>\n",
       "      <th>Unnamed: 0</th>\n",
       "      <th></th>\n",
       "      <th></th>\n",
       "      <th></th>\n",
       "      <th></th>\n",
       "      <th></th>\n",
       "      <th></th>\n",
       "      <th></th>\n",
       "      <th></th>\n",
       "      <th></th>\n",
       "      <th></th>\n",
       "      <th></th>\n",
       "      <th></th>\n",
       "      <th></th>\n",
       "      <th></th>\n",
       "      <th></th>\n",
       "      <th></th>\n",
       "      <th></th>\n",
       "      <th></th>\n",
       "      <th></th>\n",
       "      <th></th>\n",
       "      <th></th>\n",
       "    </tr>\n",
       "  </thead>\n",
       "  <tbody>\n",
       "    <tr>\n",
       "      <th>168.0</th>\n",
       "      <td>342.0</td>\n",
       "      <td>0.160</td>\n",
       "      <td>0.131</td>\n",
       "      <td>-0.052</td>\n",
       "      <td>-0.016</td>\n",
       "      <td>-0.100</td>\n",
       "      <td>-0.248</td>\n",
       "      <td>-0.030</td>\n",
       "      <td>-0.112</td>\n",
       "      <td>-0.016</td>\n",
       "      <td>...</td>\n",
       "      <td>NaN</td>\n",
       "      <td>NaN</td>\n",
       "      <td>NaN</td>\n",
       "      <td>NaN</td>\n",
       "      <td>NaN</td>\n",
       "      <td>NaN</td>\n",
       "      <td>NaN</td>\n",
       "      <td>NaN</td>\n",
       "      <td>NaN</td>\n",
       "      <td>0.0</td>\n",
       "    </tr>\n",
       "    <tr>\n",
       "      <th>510.0</th>\n",
       "      <td>995.0</td>\n",
       "      <td>NaN</td>\n",
       "      <td>NaN</td>\n",
       "      <td>NaN</td>\n",
       "      <td>NaN</td>\n",
       "      <td>NaN</td>\n",
       "      <td>NaN</td>\n",
       "      <td>NaN</td>\n",
       "      <td>NaN</td>\n",
       "      <td>NaN</td>\n",
       "      <td>...</td>\n",
       "      <td>NaN</td>\n",
       "      <td>NaN</td>\n",
       "      <td>NaN</td>\n",
       "      <td>NaN</td>\n",
       "      <td>NaN</td>\n",
       "      <td>NaN</td>\n",
       "      <td>NaN</td>\n",
       "      <td>NaN</td>\n",
       "      <td>NaN</td>\n",
       "      <td>0.0</td>\n",
       "    </tr>\n",
       "    <tr>\n",
       "      <th>706.0</th>\n",
       "      <td>1406.0</td>\n",
       "      <td>-0.167</td>\n",
       "      <td>-0.198</td>\n",
       "      <td>-0.161</td>\n",
       "      <td>-0.179</td>\n",
       "      <td>0.074</td>\n",
       "      <td>-0.021</td>\n",
       "      <td>0.022</td>\n",
       "      <td>0.128</td>\n",
       "      <td>-0.067</td>\n",
       "      <td>...</td>\n",
       "      <td>NaN</td>\n",
       "      <td>NaN</td>\n",
       "      <td>NaN</td>\n",
       "      <td>NaN</td>\n",
       "      <td>NaN</td>\n",
       "      <td>NaN</td>\n",
       "      <td>NaN</td>\n",
       "      <td>NaN</td>\n",
       "      <td>NaN</td>\n",
       "      <td>0.0</td>\n",
       "    </tr>\n",
       "    <tr>\n",
       "      <th>724.0</th>\n",
       "      <td>1447.0</td>\n",
       "      <td>NaN</td>\n",
       "      <td>NaN</td>\n",
       "      <td>NaN</td>\n",
       "      <td>NaN</td>\n",
       "      <td>NaN</td>\n",
       "      <td>NaN</td>\n",
       "      <td>NaN</td>\n",
       "      <td>NaN</td>\n",
       "      <td>NaN</td>\n",
       "      <td>...</td>\n",
       "      <td>NaN</td>\n",
       "      <td>NaN</td>\n",
       "      <td>NaN</td>\n",
       "      <td>NaN</td>\n",
       "      <td>NaN</td>\n",
       "      <td>NaN</td>\n",
       "      <td>NaN</td>\n",
       "      <td>NaN</td>\n",
       "      <td>NaN</td>\n",
       "      <td>0.0</td>\n",
       "    </tr>\n",
       "    <tr>\n",
       "      <th>780.0</th>\n",
       "      <td>1595.0</td>\n",
       "      <td>0.023</td>\n",
       "      <td>-0.004</td>\n",
       "      <td>-0.215</td>\n",
       "      <td>-0.216</td>\n",
       "      <td>0.074</td>\n",
       "      <td>-0.112</td>\n",
       "      <td>-0.015</td>\n",
       "      <td>-0.072</td>\n",
       "      <td>-0.092</td>\n",
       "      <td>...</td>\n",
       "      <td>NaN</td>\n",
       "      <td>NaN</td>\n",
       "      <td>NaN</td>\n",
       "      <td>NaN</td>\n",
       "      <td>NaN</td>\n",
       "      <td>NaN</td>\n",
       "      <td>NaN</td>\n",
       "      <td>NaN</td>\n",
       "      <td>NaN</td>\n",
       "      <td>0.0</td>\n",
       "    </tr>\n",
       "  </tbody>\n",
       "</table>\n",
       "<p>5 rows × 970 columns</p>\n",
       "</div>"
      ],
      "text/plain": [
       "                Id  L0_S0_F0  L0_S0_F2  L0_S0_F4  L0_S0_F6  L0_S0_F8  \\\n",
       "Unnamed: 0                                                             \n",
       "168.0        342.0     0.160     0.131    -0.052    -0.016    -0.100   \n",
       "510.0        995.0       NaN       NaN       NaN       NaN       NaN   \n",
       "706.0       1406.0    -0.167    -0.198    -0.161    -0.179     0.074   \n",
       "724.0       1447.0       NaN       NaN       NaN       NaN       NaN   \n",
       "780.0       1595.0     0.023    -0.004    -0.215    -0.216     0.074   \n",
       "\n",
       "            L0_S0_F10  L0_S0_F12  L0_S0_F14  L0_S0_F16    ...     \\\n",
       "Unnamed: 0                                                ...      \n",
       "168.0          -0.248     -0.030     -0.112     -0.016    ...      \n",
       "510.0             NaN        NaN        NaN        NaN    ...      \n",
       "706.0          -0.021      0.022      0.128     -0.067    ...      \n",
       "724.0             NaN        NaN        NaN        NaN    ...      \n",
       "780.0          -0.112     -0.015     -0.072     -0.092    ...      \n",
       "\n",
       "            L3_S50_F4245  L3_S50_F4247  L3_S50_F4249  L3_S50_F4251  \\\n",
       "Unnamed: 0                                                           \n",
       "168.0                NaN           NaN           NaN           NaN   \n",
       "510.0                NaN           NaN           NaN           NaN   \n",
       "706.0                NaN           NaN           NaN           NaN   \n",
       "724.0                NaN           NaN           NaN           NaN   \n",
       "780.0                NaN           NaN           NaN           NaN   \n",
       "\n",
       "            L3_S50_F4253  L3_S51_F4256  L3_S51_F4258  L3_S51_F4260  \\\n",
       "Unnamed: 0                                                           \n",
       "168.0                NaN           NaN           NaN           NaN   \n",
       "510.0                NaN           NaN           NaN           NaN   \n",
       "706.0                NaN           NaN           NaN           NaN   \n",
       "724.0                NaN           NaN           NaN           NaN   \n",
       "780.0                NaN           NaN           NaN           NaN   \n",
       "\n",
       "            L3_S51_F4262  Response  \n",
       "Unnamed: 0                          \n",
       "168.0                NaN       0.0  \n",
       "510.0                NaN       0.0  \n",
       "706.0                NaN       0.0  \n",
       "724.0                NaN       0.0  \n",
       "780.0                NaN       0.0  \n",
       "\n",
       "[5 rows x 970 columns]"
      ]
     },
     "execution_count": 45,
     "metadata": {},
     "output_type": "execute_result"
    },
    {
     "name": "stdout",
     "output_type": "stream",
     "text": [
      "time: 40 ms\n"
     ]
    }
   ],
   "source": [
    "train_num.head()"
   ]
  },
  {
   "cell_type": "code",
   "execution_count": 46,
   "metadata": {},
   "outputs": [
    {
     "name": "stdout",
     "output_type": "stream",
     "text": [
      "<class 'pandas.core.frame.DataFrame'>\n",
      "Float64Index: 9030 entries, 168.0 to 3406.0\n",
      "Columns: 1157 entries, Id to L3_S51_D4263\n",
      "dtypes: float32(1157)\n",
      "memory usage: 39.9 MB\n",
      "time: 72 ms\n"
     ]
    }
   ],
   "source": [
    "train_date.info()"
   ]
  },
  {
   "cell_type": "code",
   "execution_count": 47,
   "metadata": {},
   "outputs": [
    {
     "name": "stdout",
     "output_type": "stream",
     "text": [
      "time: 1e+03 µs\n"
     ]
    }
   ],
   "source": [
    "\n",
    "\n",
    "#[train_num.describe().loc['min']+2<0]"
   ]
  },
  {
   "cell_type": "code",
   "execution_count": 48,
   "metadata": {},
   "outputs": [
    {
     "data": {
      "text/html": [
       "<div>\n",
       "<table border=\"1\" class=\"dataframe\">\n",
       "  <thead>\n",
       "    <tr style=\"text-align: right;\">\n",
       "      <th></th>\n",
       "      <th>Id</th>\n",
       "      <th>L0_S0_F0</th>\n",
       "      <th>L0_S0_F2</th>\n",
       "      <th>L0_S0_F4</th>\n",
       "      <th>L0_S0_F6</th>\n",
       "      <th>L0_S0_F8</th>\n",
       "      <th>L0_S0_F10</th>\n",
       "      <th>L0_S0_F12</th>\n",
       "      <th>L0_S0_F14</th>\n",
       "      <th>L0_S0_F16</th>\n",
       "      <th>...</th>\n",
       "      <th>L3_S50_F4245</th>\n",
       "      <th>L3_S50_F4247</th>\n",
       "      <th>L3_S50_F4249</th>\n",
       "      <th>L3_S50_F4251</th>\n",
       "      <th>L3_S50_F4253</th>\n",
       "      <th>L3_S51_F4256</th>\n",
       "      <th>L3_S51_F4258</th>\n",
       "      <th>L3_S51_F4260</th>\n",
       "      <th>L3_S51_F4262</th>\n",
       "      <th>Response</th>\n",
       "    </tr>\n",
       "  </thead>\n",
       "  <tbody>\n",
       "    <tr>\n",
       "      <th>count</th>\n",
       "      <td>9030.000</td>\n",
       "      <td>4994.000000</td>\n",
       "      <td>4994.000000</td>\n",
       "      <td>4994.000000</td>\n",
       "      <td>4994.000000</td>\n",
       "      <td>4994.000000</td>\n",
       "      <td>4994.000000</td>\n",
       "      <td>4994.000000</td>\n",
       "      <td>4994.000000</td>\n",
       "      <td>4994.000000</td>\n",
       "      <td>...</td>\n",
       "      <td>211.0</td>\n",
       "      <td>211.0</td>\n",
       "      <td>211.000000</td>\n",
       "      <td>211.000000</td>\n",
       "      <td>211.000000</td>\n",
       "      <td>430.000000</td>\n",
       "      <td>430.0</td>\n",
       "      <td>430.000000</td>\n",
       "      <td>430.000000</td>\n",
       "      <td>9030.000000</td>\n",
       "    </tr>\n",
       "    <tr>\n",
       "      <th>mean</th>\n",
       "      <td>1189182.875</td>\n",
       "      <td>-0.000523</td>\n",
       "      <td>0.000468</td>\n",
       "      <td>-0.011189</td>\n",
       "      <td>-0.011095</td>\n",
       "      <td>0.000988</td>\n",
       "      <td>0.001876</td>\n",
       "      <td>-0.000388</td>\n",
       "      <td>-0.003406</td>\n",
       "      <td>-0.002284</td>\n",
       "      <td>...</td>\n",
       "      <td>0.0</td>\n",
       "      <td>0.0</td>\n",
       "      <td>0.005972</td>\n",
       "      <td>0.000038</td>\n",
       "      <td>0.003555</td>\n",
       "      <td>-0.000014</td>\n",
       "      <td>0.0</td>\n",
       "      <td>0.000007</td>\n",
       "      <td>0.000014</td>\n",
       "      <td>0.336656</td>\n",
       "    </tr>\n",
       "    <tr>\n",
       "      <th>std</th>\n",
       "      <td>677447.375</td>\n",
       "      <td>0.078201</td>\n",
       "      <td>0.091128</td>\n",
       "      <td>0.205947</td>\n",
       "      <td>0.206105</td>\n",
       "      <td>0.094425</td>\n",
       "      <td>0.163174</td>\n",
       "      <td>0.018572</td>\n",
       "      <td>0.100374</td>\n",
       "      <td>0.114073</td>\n",
       "      <td>...</td>\n",
       "      <td>0.0</td>\n",
       "      <td>0.0</td>\n",
       "      <td>0.068110</td>\n",
       "      <td>0.000435</td>\n",
       "      <td>0.250569</td>\n",
       "      <td>0.000117</td>\n",
       "      <td>0.0</td>\n",
       "      <td>0.000145</td>\n",
       "      <td>0.000204</td>\n",
       "      <td>0.472592</td>\n",
       "    </tr>\n",
       "    <tr>\n",
       "      <th>min</th>\n",
       "      <td>342.000</td>\n",
       "      <td>-0.284000</td>\n",
       "      <td>-0.347000</td>\n",
       "      <td>-0.397000</td>\n",
       "      <td>-0.397000</td>\n",
       "      <td>-0.404000</td>\n",
       "      <td>-0.566000</td>\n",
       "      <td>-0.044000</td>\n",
       "      <td>-0.232000</td>\n",
       "      <td>-0.357000</td>\n",
       "      <td>...</td>\n",
       "      <td>0.0</td>\n",
       "      <td>0.0</td>\n",
       "      <td>0.000000</td>\n",
       "      <td>0.000000</td>\n",
       "      <td>-0.250000</td>\n",
       "      <td>-0.001000</td>\n",
       "      <td>0.0</td>\n",
       "      <td>0.000000</td>\n",
       "      <td>0.000000</td>\n",
       "      <td>0.000000</td>\n",
       "    </tr>\n",
       "    <tr>\n",
       "      <th>25%</th>\n",
       "      <td>609654.000</td>\n",
       "      <td>-0.049000</td>\n",
       "      <td>-0.056000</td>\n",
       "      <td>-0.179000</td>\n",
       "      <td>-0.179000</td>\n",
       "      <td>-0.056000</td>\n",
       "      <td>-0.066000</td>\n",
       "      <td>-0.015000</td>\n",
       "      <td>-0.072000</td>\n",
       "      <td>-0.082000</td>\n",
       "      <td>...</td>\n",
       "      <td>0.0</td>\n",
       "      <td>0.0</td>\n",
       "      <td>0.000000</td>\n",
       "      <td>0.000000</td>\n",
       "      <td>-0.250000</td>\n",
       "      <td>0.000000</td>\n",
       "      <td>0.0</td>\n",
       "      <td>0.000000</td>\n",
       "      <td>0.000000</td>\n",
       "      <td>0.000000</td>\n",
       "    </tr>\n",
       "    <tr>\n",
       "      <th>50%</th>\n",
       "      <td>1180836.000</td>\n",
       "      <td>0.003000</td>\n",
       "      <td>0.004000</td>\n",
       "      <td>-0.033000</td>\n",
       "      <td>-0.034000</td>\n",
       "      <td>0.031000</td>\n",
       "      <td>0.070000</td>\n",
       "      <td>0.000000</td>\n",
       "      <td>-0.032000</td>\n",
       "      <td>-0.005000</td>\n",
       "      <td>...</td>\n",
       "      <td>0.0</td>\n",
       "      <td>0.0</td>\n",
       "      <td>0.000000</td>\n",
       "      <td>0.000000</td>\n",
       "      <td>0.250000</td>\n",
       "      <td>0.000000</td>\n",
       "      <td>0.0</td>\n",
       "      <td>0.000000</td>\n",
       "      <td>0.000000</td>\n",
       "      <td>0.000000</td>\n",
       "    </tr>\n",
       "    <tr>\n",
       "      <th>75%</th>\n",
       "      <td>1781781.750</td>\n",
       "      <td>0.049000</td>\n",
       "      <td>0.063000</td>\n",
       "      <td>0.003000</td>\n",
       "      <td>0.003000</td>\n",
       "      <td>0.074000</td>\n",
       "      <td>0.116000</td>\n",
       "      <td>0.015000</td>\n",
       "      <td>0.048000</td>\n",
       "      <td>0.076000</td>\n",
       "      <td>...</td>\n",
       "      <td>0.0</td>\n",
       "      <td>0.0</td>\n",
       "      <td>0.000000</td>\n",
       "      <td>0.000000</td>\n",
       "      <td>0.250000</td>\n",
       "      <td>0.000000</td>\n",
       "      <td>0.0</td>\n",
       "      <td>0.000000</td>\n",
       "      <td>0.000000</td>\n",
       "      <td>1.000000</td>\n",
       "    </tr>\n",
       "    <tr>\n",
       "      <th>max</th>\n",
       "      <td>2366839.000</td>\n",
       "      <td>0.258000</td>\n",
       "      <td>0.272000</td>\n",
       "      <td>0.567000</td>\n",
       "      <td>0.566000</td>\n",
       "      <td>0.292000</td>\n",
       "      <td>0.206000</td>\n",
       "      <td>0.082000</td>\n",
       "      <td>0.448000</td>\n",
       "      <td>0.398000</td>\n",
       "      <td>...</td>\n",
       "      <td>0.0</td>\n",
       "      <td>0.0</td>\n",
       "      <td>0.969000</td>\n",
       "      <td>0.006000</td>\n",
       "      <td>0.250000</td>\n",
       "      <td>0.000000</td>\n",
       "      <td>0.0</td>\n",
       "      <td>0.003000</td>\n",
       "      <td>0.004000</td>\n",
       "      <td>1.000000</td>\n",
       "    </tr>\n",
       "  </tbody>\n",
       "</table>\n",
       "<p>8 rows × 970 columns</p>\n",
       "</div>"
      ],
      "text/plain": [
       "                Id     L0_S0_F0     L0_S0_F2     L0_S0_F4     L0_S0_F6  \\\n",
       "count     9030.000  4994.000000  4994.000000  4994.000000  4994.000000   \n",
       "mean   1189182.875    -0.000523     0.000468    -0.011189    -0.011095   \n",
       "std     677447.375     0.078201     0.091128     0.205947     0.206105   \n",
       "min        342.000    -0.284000    -0.347000    -0.397000    -0.397000   \n",
       "25%     609654.000    -0.049000    -0.056000    -0.179000    -0.179000   \n",
       "50%    1180836.000     0.003000     0.004000    -0.033000    -0.034000   \n",
       "75%    1781781.750     0.049000     0.063000     0.003000     0.003000   \n",
       "max    2366839.000     0.258000     0.272000     0.567000     0.566000   \n",
       "\n",
       "          L0_S0_F8    L0_S0_F10    L0_S0_F12    L0_S0_F14    L0_S0_F16  \\\n",
       "count  4994.000000  4994.000000  4994.000000  4994.000000  4994.000000   \n",
       "mean      0.000988     0.001876    -0.000388    -0.003406    -0.002284   \n",
       "std       0.094425     0.163174     0.018572     0.100374     0.114073   \n",
       "min      -0.404000    -0.566000    -0.044000    -0.232000    -0.357000   \n",
       "25%      -0.056000    -0.066000    -0.015000    -0.072000    -0.082000   \n",
       "50%       0.031000     0.070000     0.000000    -0.032000    -0.005000   \n",
       "75%       0.074000     0.116000     0.015000     0.048000     0.076000   \n",
       "max       0.292000     0.206000     0.082000     0.448000     0.398000   \n",
       "\n",
       "          ...       L3_S50_F4245  L3_S50_F4247  L3_S50_F4249  L3_S50_F4251  \\\n",
       "count     ...              211.0         211.0    211.000000    211.000000   \n",
       "mean      ...                0.0           0.0      0.005972      0.000038   \n",
       "std       ...                0.0           0.0      0.068110      0.000435   \n",
       "min       ...                0.0           0.0      0.000000      0.000000   \n",
       "25%       ...                0.0           0.0      0.000000      0.000000   \n",
       "50%       ...                0.0           0.0      0.000000      0.000000   \n",
       "75%       ...                0.0           0.0      0.000000      0.000000   \n",
       "max       ...                0.0           0.0      0.969000      0.006000   \n",
       "\n",
       "       L3_S50_F4253  L3_S51_F4256  L3_S51_F4258  L3_S51_F4260  L3_S51_F4262  \\\n",
       "count    211.000000    430.000000         430.0    430.000000    430.000000   \n",
       "mean       0.003555     -0.000014           0.0      0.000007      0.000014   \n",
       "std        0.250569      0.000117           0.0      0.000145      0.000204   \n",
       "min       -0.250000     -0.001000           0.0      0.000000      0.000000   \n",
       "25%       -0.250000      0.000000           0.0      0.000000      0.000000   \n",
       "50%        0.250000      0.000000           0.0      0.000000      0.000000   \n",
       "75%        0.250000      0.000000           0.0      0.000000      0.000000   \n",
       "max        0.250000      0.000000           0.0      0.003000      0.004000   \n",
       "\n",
       "          Response  \n",
       "count  9030.000000  \n",
       "mean      0.336656  \n",
       "std       0.472592  \n",
       "min       0.000000  \n",
       "25%       0.000000  \n",
       "50%       0.000000  \n",
       "75%       1.000000  \n",
       "max       1.000000  \n",
       "\n",
       "[8 rows x 970 columns]"
      ]
     },
     "execution_count": 48,
     "metadata": {},
     "output_type": "execute_result"
    },
    {
     "name": "stdout",
     "output_type": "stream",
     "text": [
      "time: 1.83 s\n"
     ]
    }
   ],
   "source": [
    "train_num.describe()"
   ]
  },
  {
   "cell_type": "code",
   "execution_count": 49,
   "metadata": {},
   "outputs": [
    {
     "name": "stdout",
     "output_type": "stream",
     "text": [
      "<class 'pandas.core.frame.DataFrame'>\n",
      "Int64Index: 9030 entries, 0 to 9029\n",
      "Columns: 2126 entries, Id to L3_S51_D4263\n",
      "dtypes: float32(2126)\n",
      "memory usage: 73.3 MB\n",
      "time: 287 ms\n"
     ]
    }
   ],
   "source": [
    "pd.merge(train_num,train_date).info()"
   ]
  },
  {
   "cell_type": "markdown",
   "metadata": {},
   "source": [
    "### Merge both on the basis of Unnamed index"
   ]
  },
  {
   "cell_type": "code",
   "execution_count": 50,
   "metadata": {},
   "outputs": [
    {
     "name": "stdout",
     "output_type": "stream",
     "text": [
      "time: 83 ms\n"
     ]
    }
   ],
   "source": [
    "train_date_num=pd.merge(train_num,train_date,left_index=True,right_index=True).drop('Id_y',1)#.set_index(['Unnamed: 0_x'])"
   ]
  },
  {
   "cell_type": "code",
   "execution_count": 51,
   "metadata": {},
   "outputs": [
    {
     "name": "stdout",
     "output_type": "stream",
     "text": [
      "time: 1 ms\n"
     ]
    }
   ],
   "source": [
    "#train_date_num"
   ]
  },
  {
   "cell_type": "code",
   "execution_count": 52,
   "metadata": {},
   "outputs": [
    {
     "name": "stdout",
     "output_type": "stream",
     "text": [
      "time: 7 ms\n"
     ]
    }
   ],
   "source": [
    "train=train_date_num.copy()"
   ]
  },
  {
   "cell_type": "code",
   "execution_count": 53,
   "metadata": {},
   "outputs": [
    {
     "data": {
      "text/plain": [
       "0.0    1030\n",
       "1.0     570\n",
       "Name: Response, dtype: int64"
      ]
     },
     "execution_count": 53,
     "metadata": {},
     "output_type": "execute_result"
    },
    {
     "name": "stdout",
     "output_type": "stream",
     "text": [
      "time: 6 ms\n"
     ]
    }
   ],
   "source": [
    "train.Response.value_counts()"
   ]
  },
  {
   "cell_type": "code",
   "execution_count": 54,
   "metadata": {},
   "outputs": [
    {
     "name": "stdout",
     "output_type": "stream",
     "text": [
      "[('iv', 136), ('ipython_vars', 16)]\n"
     ]
    },
    {
     "data": {
      "text/plain": [
       "[{'np': 4.8e-05},\n",
       " {'os': 4.8e-05},\n",
       " {'pd': 4.8e-05},\n",
       " {'plt': 4.8e-05},\n",
       " {'tqdm': 0.000896},\n",
       " {'train': 13.619224},\n",
       " {'train_date': 41.863104},\n",
       " {'train_date_num': 13.619224},\n",
       " {'train_num': 35.108664}]"
      ]
     },
     "execution_count": 54,
     "metadata": {},
     "output_type": "execute_result"
    },
    {
     "name": "stdout",
     "output_type": "stream",
     "text": [
      "time: 272 ms\n"
     ]
    }
   ],
   "source": [
    "memchk(iv)"
   ]
  },
  {
   "cell_type": "code",
   "execution_count": 55,
   "metadata": {},
   "outputs": [
    {
     "name": "stdout",
     "output_type": "stream",
     "text": [
      "time: 7 ms\n"
     ]
    }
   ],
   "source": [
    "del train_date_num"
   ]
  },
  {
   "cell_type": "code",
   "execution_count": 56,
   "metadata": {},
   "outputs": [
    {
     "name": "stdout",
     "output_type": "stream",
     "text": [
      "time: 1 ms\n"
     ]
    }
   ],
   "source": [
    "#train['Response']"
   ]
  },
  {
   "cell_type": "code",
   "execution_count": 57,
   "metadata": {},
   "outputs": [
    {
     "name": "stdout",
     "output_type": "stream",
     "text": [
      "time: 1e+03 µs\n"
     ]
    }
   ],
   "source": [
    "#test_cat=pd.read_csv()"
   ]
  },
  {
   "cell_type": "markdown",
   "metadata": {},
   "source": [
    "### Fill NA\n",
    "Adding 2 to each cell to replace NaN with 0"
   ]
  },
  {
   "cell_type": "code",
   "execution_count": 58,
   "metadata": {},
   "outputs": [
    {
     "name": "stdout",
     "output_type": "stream",
     "text": [
      "time: 1.02 s\n"
     ]
    }
   ],
   "source": [
    "train=train[['Id_x','Response']].merge(train.drop(['Id_x','Response'],1).applymap(lambda l: l+2),left_index=True,right_index=True)"
   ]
  },
  {
   "cell_type": "code",
   "execution_count": 59,
   "metadata": {},
   "outputs": [
    {
     "name": "stdout",
     "output_type": "stream",
     "text": [
      "time: 43 ms\n"
     ]
    }
   ],
   "source": [
    "train.fillna(0, inplace=True) "
   ]
  },
  {
   "cell_type": "code",
   "execution_count": 60,
   "metadata": {},
   "outputs": [
    {
     "name": "stdout",
     "output_type": "stream",
     "text": [
      "<class 'pandas.core.frame.DataFrame'>\n",
      "Float64Index: 4308 entries, 3.0 to 9998.0\n",
      "Columns: 2126 entries, Id_x to L3_S51_D4263\n",
      "dtypes: float32(2), float64(2124)\n",
      "memory usage: 69.9 MB\n",
      "time: 238 ms\n"
     ]
    }
   ],
   "source": [
    "train.info()"
   ]
  },
  {
   "cell_type": "markdown",
   "metadata": {},
   "source": [
    "### Define predictor and target (X,y) "
   ]
  },
  {
   "cell_type": "code",
   "execution_count": 61,
   "metadata": {},
   "outputs": [
    {
     "name": "stdout",
     "output_type": "stream",
     "text": [
      "time: 3 ms\n"
     ]
    }
   ],
   "source": [
    "y=train[['Response']].reset_index(drop=True).astype(float)"
   ]
  },
  {
   "cell_type": "code",
   "execution_count": 62,
   "metadata": {},
   "outputs": [
    {
     "name": "stdout",
     "output_type": "stream",
     "text": [
      "time: 86 ms\n"
     ]
    }
   ],
   "source": [
    "X=train.drop(['Id_x','Response'],1).reset_index(drop=True)"
   ]
  },
  {
   "cell_type": "code",
   "execution_count": 63,
   "metadata": {},
   "outputs": [
    {
     "data": {
      "text/plain": [
       "(4308, 2124)"
      ]
     },
     "execution_count": 63,
     "metadata": {},
     "output_type": "execute_result"
    },
    {
     "name": "stdout",
     "output_type": "stream",
     "text": [
      "time: 3 ms\n"
     ]
    }
   ],
   "source": [
    "X.shape"
   ]
  },
  {
   "cell_type": "code",
   "execution_count": 64,
   "metadata": {},
   "outputs": [
    {
     "data": {
      "text/plain": [
       "(4308, 1)"
      ]
     },
     "execution_count": 64,
     "metadata": {},
     "output_type": "execute_result"
    },
    {
     "name": "stdout",
     "output_type": "stream",
     "text": [
      "time: 3 ms\n"
     ]
    }
   ],
   "source": [
    "y.shape"
   ]
  },
  {
   "cell_type": "markdown",
   "metadata": {},
   "source": [
    "### Create Model"
   ]
  },
  {
   "cell_type": "code",
   "execution_count": 65,
   "metadata": {},
   "outputs": [
    {
     "name": "stdout",
     "output_type": "stream",
     "text": [
      "time: 4 ms\n"
     ]
    }
   ],
   "source": [
    "from sklearn.ensemble import RandomForestClassifier\n",
    "from sklearn.metrics import matthews_corrcoef, roc_auc_score\n",
    "from sklearn.cross_validation import cross_val_score, StratifiedKFold\n",
    "from sklearn.tree import DecisionTreeClassifier\n",
    "from sklearn.model_selection import cross_val_score\n",
    "from sklearn.linear_model import LogisticRegression\n",
    "from xgboost import XGBClassifier"
   ]
  },
  {
   "cell_type": "code",
   "execution_count": 66,
   "metadata": {},
   "outputs": [
    {
     "name": "stdout",
     "output_type": "stream",
     "text": [
      "time: 4 ms\n"
     ]
    }
   ],
   "source": [
    "from sklearn.datasets import make_friedman1\n",
    "from sklearn.feature_selection import RFE\n",
    "from sklearn.svm import SVR\n",
    "#X, y = data, target_total_syn\n",
    "\n",
    "clf = XGBClassifier()\n",
    "\n",
    "#estimator = LogisticRegression(penalty = 'l1')\n",
    "#selector = RFE(estimator, 100,step=10)\n",
    "#selector = selector.fit(X, y)"
   ]
  },
  {
   "cell_type": "code",
   "execution_count": 27,
   "metadata": {},
   "outputs": [
    {
     "name": "stdout",
     "output_type": "stream",
     "text": [
      "time: 15 ms\n"
     ]
    }
   ],
   "source": [
    "from sklearn.model_selection import GridSearchCV\n",
    "param_gr  ={'max_depth':[5,15,30]\n",
    "             , \n",
    "            'learning_rate':[0.1 ,0.05]\n",
    "            ,\n",
    " 'n_estimators':[500,200] \n",
    ",\n",
    "'nthread':[5],\n",
    " \n",
    "'base_score':[0.5 ,0.01]\n",
    " }"
   ]
  },
  {
   "cell_type": "code",
   "execution_count": 28,
   "metadata": {},
   "outputs": [
    {
     "name": "stdout",
     "output_type": "stream",
     "text": [
      "time: 257 ms\n"
     ]
    }
   ],
   "source": [
    "grid_search = GridSearchCV(clf, param_grid=param_gr ,scoring='accuracy')"
   ]
  },
  {
   "cell_type": "code",
   "execution_count": 29,
   "metadata": {},
   "outputs": [
    {
     "name": "stdout",
     "output_type": "stream",
     "text": [
      "<class 'pandas.core.frame.DataFrame'>\n",
      "RangeIndex: 5005 entries, 0 to 5004\n",
      "Columns: 2124 entries, L0_S0_F0 to L3_S51_D4263\n",
      "dtypes: float64(2124)\n",
      "memory usage: 81.1 MB\n",
      "<class 'pandas.core.frame.DataFrame'>\n",
      "RangeIndex: 5005 entries, 0 to 5004\n",
      "Data columns (total 1 columns):\n",
      "Response    5005 non-null float64\n",
      "dtypes: float64(1)\n",
      "memory usage: 39.2 KB\n"
     ]
    },
    {
     "data": {
      "text/plain": [
       "(None, None)"
      ]
     },
     "execution_count": 29,
     "metadata": {},
     "output_type": "execute_result"
    },
    {
     "name": "stdout",
     "output_type": "stream",
     "text": [
      "time: 469 ms\n"
     ]
    }
   ],
   "source": [
    "X.info(),y.info()"
   ]
  },
  {
   "cell_type": "code",
   "execution_count": 31,
   "metadata": {},
   "outputs": [
    {
     "ename": "KeyboardInterrupt",
     "evalue": "",
     "output_type": "error",
     "traceback": [
      "\u001b[1;31m---------------------------------------------------------------------------\u001b[0m",
      "\u001b[1;31mKeyboardInterrupt\u001b[0m                         Traceback (most recent call last)",
      "\u001b[1;32m<ipython-input-31-bdf7fdb85cbf>\u001b[0m in \u001b[0;36m<module>\u001b[1;34m()\u001b[0m\n\u001b[1;32m----> 1\u001b[1;33m \u001b[0mgrid_search\u001b[0m\u001b[1;33m.\u001b[0m\u001b[0mfit\u001b[0m\u001b[1;33m(\u001b[0m\u001b[0mX\u001b[0m\u001b[1;33m,\u001b[0m\u001b[0my\u001b[0m\u001b[1;33m[\u001b[0m\u001b[1;34m'Response'\u001b[0m\u001b[1;33m]\u001b[0m\u001b[1;33m)\u001b[0m\u001b[1;33m\u001b[0m\u001b[0m\n\u001b[0m",
      "\u001b[1;32mC:\\Users\\sushant\\Anaconda2\\lib\\site-packages\\sklearn\\model_selection\\_search.pyc\u001b[0m in \u001b[0;36mfit\u001b[1;34m(self, X, y, groups)\u001b[0m\n\u001b[0;32m    943\u001b[0m             \u001b[0mtrain\u001b[0m\u001b[1;33m/\u001b[0m\u001b[0mtest\u001b[0m \u001b[0mset\u001b[0m\u001b[1;33m.\u001b[0m\u001b[1;33m\u001b[0m\u001b[0m\n\u001b[0;32m    944\u001b[0m         \"\"\"\n\u001b[1;32m--> 945\u001b[1;33m         \u001b[1;32mreturn\u001b[0m \u001b[0mself\u001b[0m\u001b[1;33m.\u001b[0m\u001b[0m_fit\u001b[0m\u001b[1;33m(\u001b[0m\u001b[0mX\u001b[0m\u001b[1;33m,\u001b[0m \u001b[0my\u001b[0m\u001b[1;33m,\u001b[0m \u001b[0mgroups\u001b[0m\u001b[1;33m,\u001b[0m \u001b[0mParameterGrid\u001b[0m\u001b[1;33m(\u001b[0m\u001b[0mself\u001b[0m\u001b[1;33m.\u001b[0m\u001b[0mparam_grid\u001b[0m\u001b[1;33m)\u001b[0m\u001b[1;33m)\u001b[0m\u001b[1;33m\u001b[0m\u001b[0m\n\u001b[0m\u001b[0;32m    946\u001b[0m \u001b[1;33m\u001b[0m\u001b[0m\n\u001b[0;32m    947\u001b[0m \u001b[1;33m\u001b[0m\u001b[0m\n",
      "\u001b[1;32mC:\\Users\\sushant\\Anaconda2\\lib\\site-packages\\sklearn\\model_selection\\_search.pyc\u001b[0m in \u001b[0;36m_fit\u001b[1;34m(self, X, y, groups, parameter_iterable)\u001b[0m\n\u001b[0;32m    562\u001b[0m                                   \u001b[0mreturn_times\u001b[0m\u001b[1;33m=\u001b[0m\u001b[0mTrue\u001b[0m\u001b[1;33m,\u001b[0m \u001b[0mreturn_parameters\u001b[0m\u001b[1;33m=\u001b[0m\u001b[0mTrue\u001b[0m\u001b[1;33m,\u001b[0m\u001b[1;33m\u001b[0m\u001b[0m\n\u001b[0;32m    563\u001b[0m                                   error_score=self.error_score)\n\u001b[1;32m--> 564\u001b[1;33m           \u001b[1;32mfor\u001b[0m \u001b[0mparameters\u001b[0m \u001b[1;32min\u001b[0m \u001b[0mparameter_iterable\u001b[0m\u001b[1;33m\u001b[0m\u001b[0m\n\u001b[0m\u001b[0;32m    565\u001b[0m           for train, test in cv_iter)\n\u001b[0;32m    566\u001b[0m \u001b[1;33m\u001b[0m\u001b[0m\n",
      "\u001b[1;32mC:\\Users\\sushant\\Anaconda2\\lib\\site-packages\\sklearn\\externals\\joblib\\parallel.pyc\u001b[0m in \u001b[0;36m__call__\u001b[1;34m(self, iterable)\u001b[0m\n\u001b[0;32m    756\u001b[0m             \u001b[1;31m# was dispatched. In particular this covers the edge\u001b[0m\u001b[1;33m\u001b[0m\u001b[1;33m\u001b[0m\u001b[0m\n\u001b[0;32m    757\u001b[0m             \u001b[1;31m# case of Parallel used with an exhausted iterator.\u001b[0m\u001b[1;33m\u001b[0m\u001b[1;33m\u001b[0m\u001b[0m\n\u001b[1;32m--> 758\u001b[1;33m             \u001b[1;32mwhile\u001b[0m \u001b[0mself\u001b[0m\u001b[1;33m.\u001b[0m\u001b[0mdispatch_one_batch\u001b[0m\u001b[1;33m(\u001b[0m\u001b[0miterator\u001b[0m\u001b[1;33m)\u001b[0m\u001b[1;33m:\u001b[0m\u001b[1;33m\u001b[0m\u001b[0m\n\u001b[0m\u001b[0;32m    759\u001b[0m                 \u001b[0mself\u001b[0m\u001b[1;33m.\u001b[0m\u001b[0m_iterating\u001b[0m \u001b[1;33m=\u001b[0m \u001b[0mTrue\u001b[0m\u001b[1;33m\u001b[0m\u001b[0m\n\u001b[0;32m    760\u001b[0m             \u001b[1;32melse\u001b[0m\u001b[1;33m:\u001b[0m\u001b[1;33m\u001b[0m\u001b[0m\n",
      "\u001b[1;32mC:\\Users\\sushant\\Anaconda2\\lib\\site-packages\\sklearn\\externals\\joblib\\parallel.pyc\u001b[0m in \u001b[0;36mdispatch_one_batch\u001b[1;34m(self, iterator)\u001b[0m\n\u001b[0;32m    606\u001b[0m                 \u001b[1;32mreturn\u001b[0m \u001b[0mFalse\u001b[0m\u001b[1;33m\u001b[0m\u001b[0m\n\u001b[0;32m    607\u001b[0m             \u001b[1;32melse\u001b[0m\u001b[1;33m:\u001b[0m\u001b[1;33m\u001b[0m\u001b[0m\n\u001b[1;32m--> 608\u001b[1;33m                 \u001b[0mself\u001b[0m\u001b[1;33m.\u001b[0m\u001b[0m_dispatch\u001b[0m\u001b[1;33m(\u001b[0m\u001b[0mtasks\u001b[0m\u001b[1;33m)\u001b[0m\u001b[1;33m\u001b[0m\u001b[0m\n\u001b[0m\u001b[0;32m    609\u001b[0m                 \u001b[1;32mreturn\u001b[0m \u001b[0mTrue\u001b[0m\u001b[1;33m\u001b[0m\u001b[0m\n\u001b[0;32m    610\u001b[0m \u001b[1;33m\u001b[0m\u001b[0m\n",
      "\u001b[1;32mC:\\Users\\sushant\\Anaconda2\\lib\\site-packages\\sklearn\\externals\\joblib\\parallel.pyc\u001b[0m in \u001b[0;36m_dispatch\u001b[1;34m(self, batch)\u001b[0m\n\u001b[0;32m    569\u001b[0m         \u001b[0mdispatch_timestamp\u001b[0m \u001b[1;33m=\u001b[0m \u001b[0mtime\u001b[0m\u001b[1;33m.\u001b[0m\u001b[0mtime\u001b[0m\u001b[1;33m(\u001b[0m\u001b[1;33m)\u001b[0m\u001b[1;33m\u001b[0m\u001b[0m\n\u001b[0;32m    570\u001b[0m         \u001b[0mcb\u001b[0m \u001b[1;33m=\u001b[0m \u001b[0mBatchCompletionCallBack\u001b[0m\u001b[1;33m(\u001b[0m\u001b[0mdispatch_timestamp\u001b[0m\u001b[1;33m,\u001b[0m \u001b[0mlen\u001b[0m\u001b[1;33m(\u001b[0m\u001b[0mbatch\u001b[0m\u001b[1;33m)\u001b[0m\u001b[1;33m,\u001b[0m \u001b[0mself\u001b[0m\u001b[1;33m)\u001b[0m\u001b[1;33m\u001b[0m\u001b[0m\n\u001b[1;32m--> 571\u001b[1;33m         \u001b[0mjob\u001b[0m \u001b[1;33m=\u001b[0m \u001b[0mself\u001b[0m\u001b[1;33m.\u001b[0m\u001b[0m_backend\u001b[0m\u001b[1;33m.\u001b[0m\u001b[0mapply_async\u001b[0m\u001b[1;33m(\u001b[0m\u001b[0mbatch\u001b[0m\u001b[1;33m,\u001b[0m \u001b[0mcallback\u001b[0m\u001b[1;33m=\u001b[0m\u001b[0mcb\u001b[0m\u001b[1;33m)\u001b[0m\u001b[1;33m\u001b[0m\u001b[0m\n\u001b[0m\u001b[0;32m    572\u001b[0m         \u001b[0mself\u001b[0m\u001b[1;33m.\u001b[0m\u001b[0m_jobs\u001b[0m\u001b[1;33m.\u001b[0m\u001b[0mappend\u001b[0m\u001b[1;33m(\u001b[0m\u001b[0mjob\u001b[0m\u001b[1;33m)\u001b[0m\u001b[1;33m\u001b[0m\u001b[0m\n\u001b[0;32m    573\u001b[0m \u001b[1;33m\u001b[0m\u001b[0m\n",
      "\u001b[1;32mC:\\Users\\sushant\\Anaconda2\\lib\\site-packages\\sklearn\\externals\\joblib\\_parallel_backends.pyc\u001b[0m in \u001b[0;36mapply_async\u001b[1;34m(self, func, callback)\u001b[0m\n\u001b[0;32m    107\u001b[0m     \u001b[1;32mdef\u001b[0m \u001b[0mapply_async\u001b[0m\u001b[1;33m(\u001b[0m\u001b[0mself\u001b[0m\u001b[1;33m,\u001b[0m \u001b[0mfunc\u001b[0m\u001b[1;33m,\u001b[0m \u001b[0mcallback\u001b[0m\u001b[1;33m=\u001b[0m\u001b[0mNone\u001b[0m\u001b[1;33m)\u001b[0m\u001b[1;33m:\u001b[0m\u001b[1;33m\u001b[0m\u001b[0m\n\u001b[0;32m    108\u001b[0m         \u001b[1;34m\"\"\"Schedule a func to be run\"\"\"\u001b[0m\u001b[1;33m\u001b[0m\u001b[0m\n\u001b[1;32m--> 109\u001b[1;33m         \u001b[0mresult\u001b[0m \u001b[1;33m=\u001b[0m \u001b[0mImmediateResult\u001b[0m\u001b[1;33m(\u001b[0m\u001b[0mfunc\u001b[0m\u001b[1;33m)\u001b[0m\u001b[1;33m\u001b[0m\u001b[0m\n\u001b[0m\u001b[0;32m    110\u001b[0m         \u001b[1;32mif\u001b[0m \u001b[0mcallback\u001b[0m\u001b[1;33m:\u001b[0m\u001b[1;33m\u001b[0m\u001b[0m\n\u001b[0;32m    111\u001b[0m             \u001b[0mcallback\u001b[0m\u001b[1;33m(\u001b[0m\u001b[0mresult\u001b[0m\u001b[1;33m)\u001b[0m\u001b[1;33m\u001b[0m\u001b[0m\n",
      "\u001b[1;32mC:\\Users\\sushant\\Anaconda2\\lib\\site-packages\\sklearn\\externals\\joblib\\_parallel_backends.pyc\u001b[0m in \u001b[0;36m__init__\u001b[1;34m(self, batch)\u001b[0m\n\u001b[0;32m    324\u001b[0m         \u001b[1;31m# Don't delay the application, to avoid keeping the input\u001b[0m\u001b[1;33m\u001b[0m\u001b[1;33m\u001b[0m\u001b[0m\n\u001b[0;32m    325\u001b[0m         \u001b[1;31m# arguments in memory\u001b[0m\u001b[1;33m\u001b[0m\u001b[1;33m\u001b[0m\u001b[0m\n\u001b[1;32m--> 326\u001b[1;33m         \u001b[0mself\u001b[0m\u001b[1;33m.\u001b[0m\u001b[0mresults\u001b[0m \u001b[1;33m=\u001b[0m \u001b[0mbatch\u001b[0m\u001b[1;33m(\u001b[0m\u001b[1;33m)\u001b[0m\u001b[1;33m\u001b[0m\u001b[0m\n\u001b[0m\u001b[0;32m    327\u001b[0m \u001b[1;33m\u001b[0m\u001b[0m\n\u001b[0;32m    328\u001b[0m     \u001b[1;32mdef\u001b[0m \u001b[0mget\u001b[0m\u001b[1;33m(\u001b[0m\u001b[0mself\u001b[0m\u001b[1;33m)\u001b[0m\u001b[1;33m:\u001b[0m\u001b[1;33m\u001b[0m\u001b[0m\n",
      "\u001b[1;32mC:\\Users\\sushant\\Anaconda2\\lib\\site-packages\\sklearn\\externals\\joblib\\parallel.pyc\u001b[0m in \u001b[0;36m__call__\u001b[1;34m(self)\u001b[0m\n\u001b[0;32m    129\u001b[0m \u001b[1;33m\u001b[0m\u001b[0m\n\u001b[0;32m    130\u001b[0m     \u001b[1;32mdef\u001b[0m \u001b[0m__call__\u001b[0m\u001b[1;33m(\u001b[0m\u001b[0mself\u001b[0m\u001b[1;33m)\u001b[0m\u001b[1;33m:\u001b[0m\u001b[1;33m\u001b[0m\u001b[0m\n\u001b[1;32m--> 131\u001b[1;33m         \u001b[1;32mreturn\u001b[0m \u001b[1;33m[\u001b[0m\u001b[0mfunc\u001b[0m\u001b[1;33m(\u001b[0m\u001b[1;33m*\u001b[0m\u001b[0margs\u001b[0m\u001b[1;33m,\u001b[0m \u001b[1;33m**\u001b[0m\u001b[0mkwargs\u001b[0m\u001b[1;33m)\u001b[0m \u001b[1;32mfor\u001b[0m \u001b[0mfunc\u001b[0m\u001b[1;33m,\u001b[0m \u001b[0margs\u001b[0m\u001b[1;33m,\u001b[0m \u001b[0mkwargs\u001b[0m \u001b[1;32min\u001b[0m \u001b[0mself\u001b[0m\u001b[1;33m.\u001b[0m\u001b[0mitems\u001b[0m\u001b[1;33m]\u001b[0m\u001b[1;33m\u001b[0m\u001b[0m\n\u001b[0m\u001b[0;32m    132\u001b[0m \u001b[1;33m\u001b[0m\u001b[0m\n\u001b[0;32m    133\u001b[0m     \u001b[1;32mdef\u001b[0m \u001b[0m__len__\u001b[0m\u001b[1;33m(\u001b[0m\u001b[0mself\u001b[0m\u001b[1;33m)\u001b[0m\u001b[1;33m:\u001b[0m\u001b[1;33m\u001b[0m\u001b[0m\n",
      "\u001b[1;32mC:\\Users\\sushant\\Anaconda2\\lib\\site-packages\\sklearn\\model_selection\\_validation.pyc\u001b[0m in \u001b[0;36m_fit_and_score\u001b[1;34m(estimator, X, y, scorer, train, test, verbose, parameters, fit_params, return_train_score, return_parameters, return_n_test_samples, return_times, error_score)\u001b[0m\n\u001b[0;32m    236\u001b[0m             \u001b[0mestimator\u001b[0m\u001b[1;33m.\u001b[0m\u001b[0mfit\u001b[0m\u001b[1;33m(\u001b[0m\u001b[0mX_train\u001b[0m\u001b[1;33m,\u001b[0m \u001b[1;33m**\u001b[0m\u001b[0mfit_params\u001b[0m\u001b[1;33m)\u001b[0m\u001b[1;33m\u001b[0m\u001b[0m\n\u001b[0;32m    237\u001b[0m         \u001b[1;32melse\u001b[0m\u001b[1;33m:\u001b[0m\u001b[1;33m\u001b[0m\u001b[0m\n\u001b[1;32m--> 238\u001b[1;33m             \u001b[0mestimator\u001b[0m\u001b[1;33m.\u001b[0m\u001b[0mfit\u001b[0m\u001b[1;33m(\u001b[0m\u001b[0mX_train\u001b[0m\u001b[1;33m,\u001b[0m \u001b[0my_train\u001b[0m\u001b[1;33m,\u001b[0m \u001b[1;33m**\u001b[0m\u001b[0mfit_params\u001b[0m\u001b[1;33m)\u001b[0m\u001b[1;33m\u001b[0m\u001b[0m\n\u001b[0m\u001b[0;32m    239\u001b[0m \u001b[1;33m\u001b[0m\u001b[0m\n\u001b[0;32m    240\u001b[0m     \u001b[1;32mexcept\u001b[0m \u001b[0mException\u001b[0m \u001b[1;32mas\u001b[0m \u001b[0me\u001b[0m\u001b[1;33m:\u001b[0m\u001b[1;33m\u001b[0m\u001b[0m\n",
      "\u001b[1;32mC:\\Users\\sushant\\Anaconda2\\lib\\site-packages\\xgboost\\sklearn.pyc\u001b[0m in \u001b[0;36mfit\u001b[1;34m(self, X, y, sample_weight, eval_set, eval_metric, early_stopping_rounds, verbose)\u001b[0m\n\u001b[0;32m    443\u001b[0m                               \u001b[0mearly_stopping_rounds\u001b[0m\u001b[1;33m=\u001b[0m\u001b[0mearly_stopping_rounds\u001b[0m\u001b[1;33m,\u001b[0m\u001b[1;33m\u001b[0m\u001b[0m\n\u001b[0;32m    444\u001b[0m                               \u001b[0mevals_result\u001b[0m\u001b[1;33m=\u001b[0m\u001b[0mevals_result\u001b[0m\u001b[1;33m,\u001b[0m \u001b[0mobj\u001b[0m\u001b[1;33m=\u001b[0m\u001b[0mobj\u001b[0m\u001b[1;33m,\u001b[0m \u001b[0mfeval\u001b[0m\u001b[1;33m=\u001b[0m\u001b[0mfeval\u001b[0m\u001b[1;33m,\u001b[0m\u001b[1;33m\u001b[0m\u001b[0m\n\u001b[1;32m--> 445\u001b[1;33m                               verbose_eval=verbose)\n\u001b[0m\u001b[0;32m    446\u001b[0m \u001b[1;33m\u001b[0m\u001b[0m\n\u001b[0;32m    447\u001b[0m         \u001b[0mself\u001b[0m\u001b[1;33m.\u001b[0m\u001b[0mobjective\u001b[0m \u001b[1;33m=\u001b[0m \u001b[0mxgb_options\u001b[0m\u001b[1;33m[\u001b[0m\u001b[1;34m\"objective\"\u001b[0m\u001b[1;33m]\u001b[0m\u001b[1;33m\u001b[0m\u001b[0m\n",
      "\u001b[1;32mC:\\Users\\sushant\\Anaconda2\\lib\\site-packages\\xgboost\\training.pyc\u001b[0m in \u001b[0;36mtrain\u001b[1;34m(params, dtrain, num_boost_round, evals, obj, feval, maximize, early_stopping_rounds, evals_result, verbose_eval, learning_rates, xgb_model, callbacks)\u001b[0m\n\u001b[0;32m    203\u001b[0m                            \u001b[0mevals\u001b[0m\u001b[1;33m=\u001b[0m\u001b[0mevals\u001b[0m\u001b[1;33m,\u001b[0m\u001b[1;33m\u001b[0m\u001b[0m\n\u001b[0;32m    204\u001b[0m                            \u001b[0mobj\u001b[0m\u001b[1;33m=\u001b[0m\u001b[0mobj\u001b[0m\u001b[1;33m,\u001b[0m \u001b[0mfeval\u001b[0m\u001b[1;33m=\u001b[0m\u001b[0mfeval\u001b[0m\u001b[1;33m,\u001b[0m\u001b[1;33m\u001b[0m\u001b[0m\n\u001b[1;32m--> 205\u001b[1;33m                            xgb_model=xgb_model, callbacks=callbacks)\n\u001b[0m\u001b[0;32m    206\u001b[0m \u001b[1;33m\u001b[0m\u001b[0m\n\u001b[0;32m    207\u001b[0m \u001b[1;33m\u001b[0m\u001b[0m\n",
      "\u001b[1;32mC:\\Users\\sushant\\Anaconda2\\lib\\site-packages\\xgboost\\training.pyc\u001b[0m in \u001b[0;36m_train_internal\u001b[1;34m(params, dtrain, num_boost_round, evals, obj, feval, xgb_model, callbacks)\u001b[0m\n\u001b[0;32m    103\u001b[0m             \u001b[1;32mbreak\u001b[0m\u001b[1;33m\u001b[0m\u001b[0m\n\u001b[0;32m    104\u001b[0m         \u001b[1;31m# do checkpoint after evaluation, in case evaluation also updates booster.\u001b[0m\u001b[1;33m\u001b[0m\u001b[1;33m\u001b[0m\u001b[0m\n\u001b[1;32m--> 105\u001b[1;33m         \u001b[0mbst\u001b[0m\u001b[1;33m.\u001b[0m\u001b[0msave_rabit_checkpoint\u001b[0m\u001b[1;33m(\u001b[0m\u001b[1;33m)\u001b[0m\u001b[1;33m\u001b[0m\u001b[0m\n\u001b[0m\u001b[0;32m    106\u001b[0m         \u001b[0mversion\u001b[0m \u001b[1;33m+=\u001b[0m \u001b[1;36m1\u001b[0m\u001b[1;33m\u001b[0m\u001b[0m\n\u001b[0;32m    107\u001b[0m \u001b[1;33m\u001b[0m\u001b[0m\n",
      "\u001b[1;32mC:\\Users\\sushant\\Anaconda2\\lib\\site-packages\\xgboost\\core.pyc\u001b[0m in \u001b[0;36msave_rabit_checkpoint\u001b[1;34m(self)\u001b[0m\n\u001b[0;32m    712\u001b[0m     \u001b[1;32mdef\u001b[0m \u001b[0msave_rabit_checkpoint\u001b[0m\u001b[1;33m(\u001b[0m\u001b[0mself\u001b[0m\u001b[1;33m)\u001b[0m\u001b[1;33m:\u001b[0m\u001b[1;33m\u001b[0m\u001b[0m\n\u001b[0;32m    713\u001b[0m         \u001b[1;34m\"\"\"Save the current booster to rabit checkpoint.\"\"\"\u001b[0m\u001b[1;33m\u001b[0m\u001b[0m\n\u001b[1;32m--> 714\u001b[1;33m         \u001b[0m_check_call\u001b[0m\u001b[1;33m(\u001b[0m\u001b[0m_LIB\u001b[0m\u001b[1;33m.\u001b[0m\u001b[0mXGBoosterSaveRabitCheckpoint\u001b[0m\u001b[1;33m(\u001b[0m\u001b[0mself\u001b[0m\u001b[1;33m.\u001b[0m\u001b[0mhandle\u001b[0m\u001b[1;33m)\u001b[0m\u001b[1;33m)\u001b[0m\u001b[1;33m\u001b[0m\u001b[0m\n\u001b[0m\u001b[0;32m    715\u001b[0m \u001b[1;33m\u001b[0m\u001b[0m\n\u001b[0;32m    716\u001b[0m     \u001b[1;32mdef\u001b[0m \u001b[0mattr\u001b[0m\u001b[1;33m(\u001b[0m\u001b[0mself\u001b[0m\u001b[1;33m,\u001b[0m \u001b[0mkey\u001b[0m\u001b[1;33m)\u001b[0m\u001b[1;33m:\u001b[0m\u001b[1;33m\u001b[0m\u001b[0m\n",
      "\u001b[1;31mKeyboardInterrupt\u001b[0m: "
     ]
    },
    {
     "name": "stdout",
     "output_type": "stream",
     "text": [
      "time: 40.2 s\n"
     ]
    }
   ],
   "source": [
    "grid_search.fit(X,y['Response'])"
   ]
  },
  {
   "cell_type": "code",
   "execution_count": null,
   "metadata": {
    "collapsed": true
   },
   "outputs": [],
   "source": [
    "def report(results, n_top=5):\n",
    "    for i in range(1, n_top + 1):\n",
    "        candidates = np.flatnonzero(results['rank_test_score'] == i)\n",
    "        for candidate in candidates:\n",
    "            print(\"Model with rank: {0}\".format(i))\n",
    "            print(\"Mean validation score: {0:.3f} (std: {1:.3f})\".format(\n",
    "                  results['mean_test_score'][candidate],\n",
    "                  results['std_test_score'][candidate]))\n",
    "            print(\"Parameters: {0}\".format(results['params'][candidate]))\n",
    "            print(\"\")"
   ]
  },
  {
   "cell_type": "code",
   "execution_count": null,
   "metadata": {
    "collapsed": true
   },
   "outputs": [],
   "source": [
    "report(grid_search.cv_results_)"
   ]
  },
  {
   "cell_type": "code",
   "execution_count": null,
   "metadata": {
    "collapsed": true
   },
   "outputs": [],
   "source": [
    "str(grid_search.best_params_)[1:-1]"
   ]
  },
  {
   "cell_type": "code",
   "execution_count": 67,
   "metadata": {},
   "outputs": [
    {
     "name": "stdout",
     "output_type": "stream",
     "text": [
      "time: 1 ms\n"
     ]
    }
   ],
   "source": [
    "clf=XGBClassifier(n_estimators= 500, learning_rate= 0.1, max_depth= 15, base_score= 0.5 )"
   ]
  },
  {
   "cell_type": "code",
   "execution_count": 33,
   "metadata": {},
   "outputs": [
    {
     "ename": "NotFittedError",
     "evalue": "This GridSearchCV instance is not fitted yet. Call 'fit' with appropriate arguments before using this method.",
     "output_type": "error",
     "traceback": [
      "\u001b[1;31m---------------------------------------------------------------------------\u001b[0m",
      "\u001b[1;31mNotFittedError\u001b[0m                            Traceback (most recent call last)",
      "\u001b[1;32m<ipython-input-33-a4a4433b859b>\u001b[0m in \u001b[0;36m<module>\u001b[1;34m()\u001b[0m\n\u001b[1;32m----> 1\u001b[1;33m \u001b[0mstr\u001b[0m\u001b[1;33m(\u001b[0m\u001b[0mgrid_search\u001b[0m\u001b[1;33m.\u001b[0m\u001b[0mbest_params_\u001b[0m\u001b[1;33m)\u001b[0m\u001b[1;33m[\u001b[0m\u001b[1;36m2\u001b[0m\u001b[1;33m:\u001b[0m\u001b[1;33m-\u001b[0m\u001b[1;36m1\u001b[0m\u001b[1;33m]\u001b[0m\u001b[1;33m.\u001b[0m\u001b[0mreplace\u001b[0m\u001b[1;33m(\u001b[0m\u001b[1;34m':'\u001b[0m\u001b[1;33m,\u001b[0m\u001b[1;34m'='\u001b[0m\u001b[1;33m)\u001b[0m\u001b[1;33m.\u001b[0m\u001b[0mreplace\u001b[0m\u001b[1;33m(\u001b[0m\u001b[1;34m\"'\"\u001b[0m\u001b[1;33m,\u001b[0m\u001b[1;34m\"\"\u001b[0m\u001b[1;33m)\u001b[0m\u001b[1;33m\u001b[0m\u001b[0m\n\u001b[0m",
      "\u001b[1;32mC:\\Users\\sushant\\Anaconda2\\lib\\site-packages\\sklearn\\model_selection\\_search.pyc\u001b[0m in \u001b[0;36mbest_params_\u001b[1;34m(self)\u001b[0m\n\u001b[0;32m    651\u001b[0m     \u001b[1;33m@\u001b[0m\u001b[0mproperty\u001b[0m\u001b[1;33m\u001b[0m\u001b[0m\n\u001b[0;32m    652\u001b[0m     \u001b[1;32mdef\u001b[0m \u001b[0mbest_params_\u001b[0m\u001b[1;33m(\u001b[0m\u001b[0mself\u001b[0m\u001b[1;33m)\u001b[0m\u001b[1;33m:\u001b[0m\u001b[1;33m\u001b[0m\u001b[0m\n\u001b[1;32m--> 653\u001b[1;33m         \u001b[0mcheck_is_fitted\u001b[0m\u001b[1;33m(\u001b[0m\u001b[0mself\u001b[0m\u001b[1;33m,\u001b[0m \u001b[1;34m'cv_results_'\u001b[0m\u001b[1;33m)\u001b[0m\u001b[1;33m\u001b[0m\u001b[0m\n\u001b[0m\u001b[0;32m    654\u001b[0m         \u001b[1;32mreturn\u001b[0m \u001b[0mself\u001b[0m\u001b[1;33m.\u001b[0m\u001b[0mcv_results_\u001b[0m\u001b[1;33m[\u001b[0m\u001b[1;34m'params'\u001b[0m\u001b[1;33m]\u001b[0m\u001b[1;33m[\u001b[0m\u001b[0mself\u001b[0m\u001b[1;33m.\u001b[0m\u001b[0mbest_index_\u001b[0m\u001b[1;33m]\u001b[0m\u001b[1;33m\u001b[0m\u001b[0m\n\u001b[0;32m    655\u001b[0m \u001b[1;33m\u001b[0m\u001b[0m\n",
      "\u001b[1;32mC:\\Users\\sushant\\Anaconda2\\lib\\site-packages\\sklearn\\utils\\validation.pyc\u001b[0m in \u001b[0;36mcheck_is_fitted\u001b[1;34m(estimator, attributes, msg, all_or_any)\u001b[0m\n\u001b[0;32m    688\u001b[0m     \u001b[1;32mif\u001b[0m \u001b[1;32mnot\u001b[0m \u001b[0mall_or_any\u001b[0m\u001b[1;33m(\u001b[0m\u001b[1;33m[\u001b[0m\u001b[0mhasattr\u001b[0m\u001b[1;33m(\u001b[0m\u001b[0mestimator\u001b[0m\u001b[1;33m,\u001b[0m \u001b[0mattr\u001b[0m\u001b[1;33m)\u001b[0m \u001b[1;32mfor\u001b[0m \u001b[0mattr\u001b[0m \u001b[1;32min\u001b[0m \u001b[0mattributes\u001b[0m\u001b[1;33m]\u001b[0m\u001b[1;33m)\u001b[0m\u001b[1;33m:\u001b[0m\u001b[1;33m\u001b[0m\u001b[0m\n\u001b[0;32m    689\u001b[0m         \u001b[1;31m# FIXME NotFittedError_ --> NotFittedError in 0.19\u001b[0m\u001b[1;33m\u001b[0m\u001b[1;33m\u001b[0m\u001b[0m\n\u001b[1;32m--> 690\u001b[1;33m         \u001b[1;32mraise\u001b[0m \u001b[0m_NotFittedError\u001b[0m\u001b[1;33m(\u001b[0m\u001b[0mmsg\u001b[0m \u001b[1;33m%\u001b[0m \u001b[1;33m{\u001b[0m\u001b[1;34m'name'\u001b[0m\u001b[1;33m:\u001b[0m \u001b[0mtype\u001b[0m\u001b[1;33m(\u001b[0m\u001b[0mestimator\u001b[0m\u001b[1;33m)\u001b[0m\u001b[1;33m.\u001b[0m\u001b[0m__name__\u001b[0m\u001b[1;33m}\u001b[0m\u001b[1;33m)\u001b[0m\u001b[1;33m\u001b[0m\u001b[0m\n\u001b[0m\u001b[0;32m    691\u001b[0m \u001b[1;33m\u001b[0m\u001b[0m\n\u001b[0;32m    692\u001b[0m \u001b[1;33m\u001b[0m\u001b[0m\n",
      "\u001b[1;31mNotFittedError\u001b[0m: This GridSearchCV instance is not fitted yet. Call 'fit' with appropriate arguments before using this method."
     ]
    },
    {
     "name": "stdout",
     "output_type": "stream",
     "text": [
      "time: 129 ms\n"
     ]
    }
   ],
   "source": [
    "str(grid_search.best_params_)[2:-1].replace(':','=').replace(\"'\",\"\")"
   ]
  },
  {
   "cell_type": "code",
   "execution_count": null,
   "metadata": {
    "collapsed": true
   },
   "outputs": [],
   "source": []
  },
  {
   "cell_type": "code",
   "execution_count": null,
   "metadata": {
    "collapsed": true
   },
   "outputs": [],
   "source": []
  },
  {
   "cell_type": "code",
   "execution_count": null,
   "metadata": {
    "collapsed": true
   },
   "outputs": [],
   "source": []
  },
  {
   "cell_type": "code",
   "execution_count": 68,
   "metadata": {},
   "outputs": [
    {
     "data": {
      "text/plain": [
       "XGBClassifier(base_score=0.5, colsample_bylevel=1, colsample_bytree=1,\n",
       "       gamma=0, learning_rate=0.1, max_delta_step=0, max_depth=15,\n",
       "       min_child_weight=1, missing=None, n_estimators=500, nthread=-1,\n",
       "       objective='binary:logistic', reg_alpha=0, reg_lambda=1,\n",
       "       scale_pos_weight=1, seed=0, silent=True, subsample=1)"
      ]
     },
     "execution_count": 68,
     "metadata": {},
     "output_type": "execute_result"
    },
    {
     "name": "stdout",
     "output_type": "stream",
     "text": [
      "time: 2min 35s\n"
     ]
    }
   ],
   "source": [
    "clf.fit(X,y)"
   ]
  },
  {
   "cell_type": "markdown",
   "metadata": {},
   "source": [
    "### Get the Features with Importance Flag "
   ]
  },
  {
   "cell_type": "code",
   "execution_count": 69,
   "metadata": {},
   "outputs": [
    {
     "data": {
      "text/html": [
       "<div>\n",
       "<table border=\"1\" class=\"dataframe\">\n",
       "  <thead>\n",
       "    <tr style=\"text-align: right;\">\n",
       "      <th></th>\n",
       "      <th>fea</th>\n",
       "      <th>coef</th>\n",
       "    </tr>\n",
       "  </thead>\n",
       "  <tbody>\n",
       "    <tr>\n",
       "      <th>968</th>\n",
       "      <td>L0_S0_D1</td>\n",
       "      <td>0.050862</td>\n",
       "    </tr>\n",
       "    <tr>\n",
       "      <th>1851</th>\n",
       "      <td>L3_S29_D3316</td>\n",
       "      <td>0.034879</td>\n",
       "    </tr>\n",
       "    <tr>\n",
       "      <th>1002</th>\n",
       "      <td>L0_S5_D115</td>\n",
       "      <td>0.022400</td>\n",
       "    </tr>\n",
       "    <tr>\n",
       "      <th>982</th>\n",
       "      <td>L0_S2_D34</td>\n",
       "      <td>0.019880</td>\n",
       "    </tr>\n",
       "    <tr>\n",
       "      <th>1773</th>\n",
       "      <td>L2_S26_D3037</td>\n",
       "      <td>0.018266</td>\n",
       "    </tr>\n",
       "    <tr>\n",
       "      <th>2002</th>\n",
       "      <td>L3_S35_D3886</td>\n",
       "      <td>0.017991</td>\n",
       "    </tr>\n",
       "    <tr>\n",
       "      <th>1009</th>\n",
       "      <td>L0_S7_D137</td>\n",
       "      <td>0.017951</td>\n",
       "    </tr>\n",
       "    <tr>\n",
       "      <th>1044</th>\n",
       "      <td>L0_S11_D280</td>\n",
       "      <td>0.017282</td>\n",
       "    </tr>\n",
       "    <tr>\n",
       "      <th>991</th>\n",
       "      <td>L0_S3_D70</td>\n",
       "      <td>0.016731</td>\n",
       "    </tr>\n",
       "    <tr>\n",
       "      <th>1987</th>\n",
       "      <td>L3_S33_D3856</td>\n",
       "      <td>0.015353</td>\n",
       "    </tr>\n",
       "    <tr>\n",
       "      <th>2010</th>\n",
       "      <td>L3_S36_D3919</td>\n",
       "      <td>0.014330</td>\n",
       "    </tr>\n",
       "    <tr>\n",
       "      <th>788</th>\n",
       "      <td>L3_S30_F3554</td>\n",
       "      <td>0.013621</td>\n",
       "    </tr>\n",
       "    <tr>\n",
       "      <th>1348</th>\n",
       "      <td>L1_S24_D1511</td>\n",
       "      <td>0.012755</td>\n",
       "    </tr>\n",
       "    <tr>\n",
       "      <th>1057</th>\n",
       "      <td>L0_S12_D331</td>\n",
       "      <td>0.012676</td>\n",
       "    </tr>\n",
       "    <tr>\n",
       "      <th>1031</th>\n",
       "      <td>L0_S10_D216</td>\n",
       "      <td>0.012086</td>\n",
       "    </tr>\n",
       "    <tr>\n",
       "      <th>851</th>\n",
       "      <td>L3_S33_F3859</td>\n",
       "      <td>0.011613</td>\n",
       "    </tr>\n",
       "    <tr>\n",
       "      <th>826</th>\n",
       "      <td>L3_S30_F3744</td>\n",
       "      <td>0.011613</td>\n",
       "    </tr>\n",
       "    <tr>\n",
       "      <th>726</th>\n",
       "      <td>L3_S29_F3324</td>\n",
       "      <td>0.011141</td>\n",
       "    </tr>\n",
       "    <tr>\n",
       "      <th>1004</th>\n",
       "      <td>L0_S6_D120</td>\n",
       "      <td>0.011023</td>\n",
       "    </tr>\n",
       "    <tr>\n",
       "      <th>1000</th>\n",
       "      <td>L0_S4_D106</td>\n",
       "      <td>0.010629</td>\n",
       "    </tr>\n",
       "    <tr>\n",
       "      <th>786</th>\n",
       "      <td>L3_S30_F3544</td>\n",
       "      <td>0.010472</td>\n",
       "    </tr>\n",
       "    <tr>\n",
       "      <th>1440</th>\n",
       "      <td>L1_S25_D1854</td>\n",
       "      <td>0.009684</td>\n",
       "    </tr>\n",
       "    <tr>\n",
       "      <th>0</th>\n",
       "      <td>L0_S0_F0</td>\n",
       "      <td>0.009409</td>\n",
       "    </tr>\n",
       "    <tr>\n",
       "      <th>735</th>\n",
       "      <td>L3_S29_F3351</td>\n",
       "      <td>0.009369</td>\n",
       "    </tr>\n",
       "    <tr>\n",
       "      <th>838</th>\n",
       "      <td>L3_S30_F3804</td>\n",
       "      <td>0.008936</td>\n",
       "    </tr>\n",
       "    <tr>\n",
       "      <th>843</th>\n",
       "      <td>L3_S30_F3829</td>\n",
       "      <td>0.008661</td>\n",
       "    </tr>\n",
       "    <tr>\n",
       "      <th>829</th>\n",
       "      <td>L3_S30_F3759</td>\n",
       "      <td>0.008582</td>\n",
       "    </tr>\n",
       "    <tr>\n",
       "      <th>854</th>\n",
       "      <td>L3_S33_F3865</td>\n",
       "      <td>0.008425</td>\n",
       "    </tr>\n",
       "    <tr>\n",
       "      <th>839</th>\n",
       "      <td>L3_S30_F3809</td>\n",
       "      <td>0.007440</td>\n",
       "    </tr>\n",
       "    <tr>\n",
       "      <th>828</th>\n",
       "      <td>L3_S30_F3754</td>\n",
       "      <td>0.007283</td>\n",
       "    </tr>\n",
       "    <tr>\n",
       "      <th>...</th>\n",
       "      <td>...</td>\n",
       "      <td>...</td>\n",
       "    </tr>\n",
       "    <tr>\n",
       "      <th>896</th>\n",
       "      <td>L3_S40_F3992</td>\n",
       "      <td>0.000000</td>\n",
       "    </tr>\n",
       "    <tr>\n",
       "      <th>895</th>\n",
       "      <td>L3_S40_F3990</td>\n",
       "      <td>0.000000</td>\n",
       "    </tr>\n",
       "    <tr>\n",
       "      <th>894</th>\n",
       "      <td>L3_S40_F3988</td>\n",
       "      <td>0.000000</td>\n",
       "    </tr>\n",
       "    <tr>\n",
       "      <th>939</th>\n",
       "      <td>L3_S47_F4168</td>\n",
       "      <td>0.000000</td>\n",
       "    </tr>\n",
       "    <tr>\n",
       "      <th>940</th>\n",
       "      <td>L3_S47_F4173</td>\n",
       "      <td>0.000000</td>\n",
       "    </tr>\n",
       "    <tr>\n",
       "      <th>941</th>\n",
       "      <td>L3_S47_F4178</td>\n",
       "      <td>0.000000</td>\n",
       "    </tr>\n",
       "    <tr>\n",
       "      <th>960</th>\n",
       "      <td>L3_S50_F4247</td>\n",
       "      <td>0.000000</td>\n",
       "    </tr>\n",
       "    <tr>\n",
       "      <th>971</th>\n",
       "      <td>L0_S0_D7</td>\n",
       "      <td>0.000000</td>\n",
       "    </tr>\n",
       "    <tr>\n",
       "      <th>970</th>\n",
       "      <td>L0_S0_D5</td>\n",
       "      <td>0.000000</td>\n",
       "    </tr>\n",
       "    <tr>\n",
       "      <th>969</th>\n",
       "      <td>L0_S0_D3</td>\n",
       "      <td>0.000000</td>\n",
       "    </tr>\n",
       "    <tr>\n",
       "      <th>967</th>\n",
       "      <td>L3_S51_F4262</td>\n",
       "      <td>0.000000</td>\n",
       "    </tr>\n",
       "    <tr>\n",
       "      <th>966</th>\n",
       "      <td>L3_S51_F4260</td>\n",
       "      <td>0.000000</td>\n",
       "    </tr>\n",
       "    <tr>\n",
       "      <th>965</th>\n",
       "      <td>L3_S51_F4258</td>\n",
       "      <td>0.000000</td>\n",
       "    </tr>\n",
       "    <tr>\n",
       "      <th>964</th>\n",
       "      <td>L3_S51_F4256</td>\n",
       "      <td>0.000000</td>\n",
       "    </tr>\n",
       "    <tr>\n",
       "      <th>963</th>\n",
       "      <td>L3_S50_F4253</td>\n",
       "      <td>0.000000</td>\n",
       "    </tr>\n",
       "    <tr>\n",
       "      <th>962</th>\n",
       "      <td>L3_S50_F4251</td>\n",
       "      <td>0.000000</td>\n",
       "    </tr>\n",
       "    <tr>\n",
       "      <th>961</th>\n",
       "      <td>L3_S50_F4249</td>\n",
       "      <td>0.000000</td>\n",
       "    </tr>\n",
       "    <tr>\n",
       "      <th>959</th>\n",
       "      <td>L3_S50_F4245</td>\n",
       "      <td>0.000000</td>\n",
       "    </tr>\n",
       "    <tr>\n",
       "      <th>942</th>\n",
       "      <td>L3_S47_F4183</td>\n",
       "      <td>0.000000</td>\n",
       "    </tr>\n",
       "    <tr>\n",
       "      <th>956</th>\n",
       "      <td>L3_S49_F4236</td>\n",
       "      <td>0.000000</td>\n",
       "    </tr>\n",
       "    <tr>\n",
       "      <th>955</th>\n",
       "      <td>L3_S49_F4231</td>\n",
       "      <td>0.000000</td>\n",
       "    </tr>\n",
       "    <tr>\n",
       "      <th>954</th>\n",
       "      <td>L3_S49_F4226</td>\n",
       "      <td>0.000000</td>\n",
       "    </tr>\n",
       "    <tr>\n",
       "      <th>953</th>\n",
       "      <td>L3_S49_F4221</td>\n",
       "      <td>0.000000</td>\n",
       "    </tr>\n",
       "    <tr>\n",
       "      <th>951</th>\n",
       "      <td>L3_S49_F4211</td>\n",
       "      <td>0.000000</td>\n",
       "    </tr>\n",
       "    <tr>\n",
       "      <th>950</th>\n",
       "      <td>L3_S49_F4206</td>\n",
       "      <td>0.000000</td>\n",
       "    </tr>\n",
       "    <tr>\n",
       "      <th>949</th>\n",
       "      <td>L3_S48_F4204</td>\n",
       "      <td>0.000000</td>\n",
       "    </tr>\n",
       "    <tr>\n",
       "      <th>948</th>\n",
       "      <td>L3_S48_F4202</td>\n",
       "      <td>0.000000</td>\n",
       "    </tr>\n",
       "    <tr>\n",
       "      <th>947</th>\n",
       "      <td>L3_S48_F4200</td>\n",
       "      <td>0.000000</td>\n",
       "    </tr>\n",
       "    <tr>\n",
       "      <th>943</th>\n",
       "      <td>L3_S47_F4188</td>\n",
       "      <td>0.000000</td>\n",
       "    </tr>\n",
       "    <tr>\n",
       "      <th>2123</th>\n",
       "      <td>L3_S51_D4263</td>\n",
       "      <td>0.000000</td>\n",
       "    </tr>\n",
       "  </tbody>\n",
       "</table>\n",
       "<p>2124 rows × 2 columns</p>\n",
       "</div>"
      ],
      "text/plain": [
       "               fea      coef\n",
       "968       L0_S0_D1  0.050862\n",
       "1851  L3_S29_D3316  0.034879\n",
       "1002    L0_S5_D115  0.022400\n",
       "982      L0_S2_D34  0.019880\n",
       "1773  L2_S26_D3037  0.018266\n",
       "2002  L3_S35_D3886  0.017991\n",
       "1009    L0_S7_D137  0.017951\n",
       "1044   L0_S11_D280  0.017282\n",
       "991      L0_S3_D70  0.016731\n",
       "1987  L3_S33_D3856  0.015353\n",
       "2010  L3_S36_D3919  0.014330\n",
       "788   L3_S30_F3554  0.013621\n",
       "1348  L1_S24_D1511  0.012755\n",
       "1057   L0_S12_D331  0.012676\n",
       "1031   L0_S10_D216  0.012086\n",
       "851   L3_S33_F3859  0.011613\n",
       "826   L3_S30_F3744  0.011613\n",
       "726   L3_S29_F3324  0.011141\n",
       "1004    L0_S6_D120  0.011023\n",
       "1000    L0_S4_D106  0.010629\n",
       "786   L3_S30_F3544  0.010472\n",
       "1440  L1_S25_D1854  0.009684\n",
       "0         L0_S0_F0  0.009409\n",
       "735   L3_S29_F3351  0.009369\n",
       "838   L3_S30_F3804  0.008936\n",
       "843   L3_S30_F3829  0.008661\n",
       "829   L3_S30_F3759  0.008582\n",
       "854   L3_S33_F3865  0.008425\n",
       "839   L3_S30_F3809  0.007440\n",
       "828   L3_S30_F3754  0.007283\n",
       "...            ...       ...\n",
       "896   L3_S40_F3992  0.000000\n",
       "895   L3_S40_F3990  0.000000\n",
       "894   L3_S40_F3988  0.000000\n",
       "939   L3_S47_F4168  0.000000\n",
       "940   L3_S47_F4173  0.000000\n",
       "941   L3_S47_F4178  0.000000\n",
       "960   L3_S50_F4247  0.000000\n",
       "971       L0_S0_D7  0.000000\n",
       "970       L0_S0_D5  0.000000\n",
       "969       L0_S0_D3  0.000000\n",
       "967   L3_S51_F4262  0.000000\n",
       "966   L3_S51_F4260  0.000000\n",
       "965   L3_S51_F4258  0.000000\n",
       "964   L3_S51_F4256  0.000000\n",
       "963   L3_S50_F4253  0.000000\n",
       "962   L3_S50_F4251  0.000000\n",
       "961   L3_S50_F4249  0.000000\n",
       "959   L3_S50_F4245  0.000000\n",
       "942   L3_S47_F4183  0.000000\n",
       "956   L3_S49_F4236  0.000000\n",
       "955   L3_S49_F4231  0.000000\n",
       "954   L3_S49_F4226  0.000000\n",
       "953   L3_S49_F4221  0.000000\n",
       "951   L3_S49_F4211  0.000000\n",
       "950   L3_S49_F4206  0.000000\n",
       "949   L3_S48_F4204  0.000000\n",
       "948   L3_S48_F4202  0.000000\n",
       "947   L3_S48_F4200  0.000000\n",
       "943   L3_S47_F4188  0.000000\n",
       "2123  L3_S51_D4263  0.000000\n",
       "\n",
       "[2124 rows x 2 columns]"
      ]
     },
     "execution_count": 69,
     "metadata": {},
     "output_type": "execute_result"
    },
    {
     "name": "stdout",
     "output_type": "stream",
     "text": [
      "time: 224 ms\n"
     ]
    }
   ],
   "source": [
    "fea_imp = pd.DataFrame(train.drop(['Id_x','Response'],1).columns.tolist(), columns = {'fea'})\n",
    "fea_imp['coef'] = pd.DataFrame(clf.feature_importances_)\n",
    "\n",
    "fea_imp.sort('coef',ascending = False)"
   ]
  },
  {
   "cell_type": "markdown",
   "metadata": {},
   "source": [
    "#### Filter out only selected Features"
   ]
  },
  {
   "cell_type": "code",
   "execution_count": 70,
   "metadata": {},
   "outputs": [
    {
     "name": "stdout",
     "output_type": "stream",
     "text": [
      "time: 7 ms\n"
     ]
    }
   ],
   "source": [
    "#fea_imp = pd.DataFrame(train.columns.tolist(), columns = {'fea'})\n",
    "#fea_imp['coef'] = pd.DataFrame(selector.support_)\n",
    "fea_imp=fea_imp[fea_imp['fea']!='Id_x']\n",
    "fea_imp=fea_imp[fea_imp['fea']!='Id_y']\n",
    "fea_imp=fea_imp.sort('coef',ascending = False)\n"
   ]
  },
  {
   "cell_type": "markdown",
   "metadata": {},
   "source": [
    "#### Split Features name into Line, Station, Feature"
   ]
  },
  {
   "cell_type": "code",
   "execution_count": 71,
   "metadata": {},
   "outputs": [
    {
     "data": {
      "text/html": [
       "<div>\n",
       "<table border=\"1\" class=\"dataframe\">\n",
       "  <thead>\n",
       "    <tr style=\"text-align: right;\">\n",
       "      <th></th>\n",
       "      <th>fea</th>\n",
       "      <th>coef</th>\n",
       "      <th>LineNo</th>\n",
       "      <th>StationNo</th>\n",
       "      <th>FeatureNo</th>\n",
       "    </tr>\n",
       "  </thead>\n",
       "  <tbody>\n",
       "    <tr>\n",
       "      <th>968</th>\n",
       "      <td>L0_S0_D1</td>\n",
       "      <td>0.050862</td>\n",
       "      <td>L0</td>\n",
       "      <td>S0</td>\n",
       "      <td>D1</td>\n",
       "    </tr>\n",
       "    <tr>\n",
       "      <th>1851</th>\n",
       "      <td>L3_S29_D3316</td>\n",
       "      <td>0.034879</td>\n",
       "      <td>L3</td>\n",
       "      <td>S29</td>\n",
       "      <td>D3316</td>\n",
       "    </tr>\n",
       "    <tr>\n",
       "      <th>1002</th>\n",
       "      <td>L0_S5_D115</td>\n",
       "      <td>0.022400</td>\n",
       "      <td>L0</td>\n",
       "      <td>S5</td>\n",
       "      <td>D115</td>\n",
       "    </tr>\n",
       "    <tr>\n",
       "      <th>982</th>\n",
       "      <td>L0_S2_D34</td>\n",
       "      <td>0.019880</td>\n",
       "      <td>L0</td>\n",
       "      <td>S2</td>\n",
       "      <td>D34</td>\n",
       "    </tr>\n",
       "    <tr>\n",
       "      <th>1773</th>\n",
       "      <td>L2_S26_D3037</td>\n",
       "      <td>0.018266</td>\n",
       "      <td>L2</td>\n",
       "      <td>S26</td>\n",
       "      <td>D3037</td>\n",
       "    </tr>\n",
       "    <tr>\n",
       "      <th>2002</th>\n",
       "      <td>L3_S35_D3886</td>\n",
       "      <td>0.017991</td>\n",
       "      <td>L3</td>\n",
       "      <td>S35</td>\n",
       "      <td>D3886</td>\n",
       "    </tr>\n",
       "    <tr>\n",
       "      <th>1009</th>\n",
       "      <td>L0_S7_D137</td>\n",
       "      <td>0.017951</td>\n",
       "      <td>L0</td>\n",
       "      <td>S7</td>\n",
       "      <td>D137</td>\n",
       "    </tr>\n",
       "    <tr>\n",
       "      <th>1044</th>\n",
       "      <td>L0_S11_D280</td>\n",
       "      <td>0.017282</td>\n",
       "      <td>L0</td>\n",
       "      <td>S11</td>\n",
       "      <td>D280</td>\n",
       "    </tr>\n",
       "    <tr>\n",
       "      <th>991</th>\n",
       "      <td>L0_S3_D70</td>\n",
       "      <td>0.016731</td>\n",
       "      <td>L0</td>\n",
       "      <td>S3</td>\n",
       "      <td>D70</td>\n",
       "    </tr>\n",
       "    <tr>\n",
       "      <th>1987</th>\n",
       "      <td>L3_S33_D3856</td>\n",
       "      <td>0.015353</td>\n",
       "      <td>L3</td>\n",
       "      <td>S33</td>\n",
       "      <td>D3856</td>\n",
       "    </tr>\n",
       "    <tr>\n",
       "      <th>2010</th>\n",
       "      <td>L3_S36_D3919</td>\n",
       "      <td>0.014330</td>\n",
       "      <td>L3</td>\n",
       "      <td>S36</td>\n",
       "      <td>D3919</td>\n",
       "    </tr>\n",
       "    <tr>\n",
       "      <th>788</th>\n",
       "      <td>L3_S30_F3554</td>\n",
       "      <td>0.013621</td>\n",
       "      <td>L3</td>\n",
       "      <td>S30</td>\n",
       "      <td>F3554</td>\n",
       "    </tr>\n",
       "    <tr>\n",
       "      <th>1348</th>\n",
       "      <td>L1_S24_D1511</td>\n",
       "      <td>0.012755</td>\n",
       "      <td>L1</td>\n",
       "      <td>S24</td>\n",
       "      <td>D1511</td>\n",
       "    </tr>\n",
       "    <tr>\n",
       "      <th>1057</th>\n",
       "      <td>L0_S12_D331</td>\n",
       "      <td>0.012676</td>\n",
       "      <td>L0</td>\n",
       "      <td>S12</td>\n",
       "      <td>D331</td>\n",
       "    </tr>\n",
       "    <tr>\n",
       "      <th>1031</th>\n",
       "      <td>L0_S10_D216</td>\n",
       "      <td>0.012086</td>\n",
       "      <td>L0</td>\n",
       "      <td>S10</td>\n",
       "      <td>D216</td>\n",
       "    </tr>\n",
       "    <tr>\n",
       "      <th>851</th>\n",
       "      <td>L3_S33_F3859</td>\n",
       "      <td>0.011613</td>\n",
       "      <td>L3</td>\n",
       "      <td>S33</td>\n",
       "      <td>F3859</td>\n",
       "    </tr>\n",
       "    <tr>\n",
       "      <th>826</th>\n",
       "      <td>L3_S30_F3744</td>\n",
       "      <td>0.011613</td>\n",
       "      <td>L3</td>\n",
       "      <td>S30</td>\n",
       "      <td>F3744</td>\n",
       "    </tr>\n",
       "    <tr>\n",
       "      <th>726</th>\n",
       "      <td>L3_S29_F3324</td>\n",
       "      <td>0.011141</td>\n",
       "      <td>L3</td>\n",
       "      <td>S29</td>\n",
       "      <td>F3324</td>\n",
       "    </tr>\n",
       "    <tr>\n",
       "      <th>1004</th>\n",
       "      <td>L0_S6_D120</td>\n",
       "      <td>0.011023</td>\n",
       "      <td>L0</td>\n",
       "      <td>S6</td>\n",
       "      <td>D120</td>\n",
       "    </tr>\n",
       "    <tr>\n",
       "      <th>1000</th>\n",
       "      <td>L0_S4_D106</td>\n",
       "      <td>0.010629</td>\n",
       "      <td>L0</td>\n",
       "      <td>S4</td>\n",
       "      <td>D106</td>\n",
       "    </tr>\n",
       "    <tr>\n",
       "      <th>786</th>\n",
       "      <td>L3_S30_F3544</td>\n",
       "      <td>0.010472</td>\n",
       "      <td>L3</td>\n",
       "      <td>S30</td>\n",
       "      <td>F3544</td>\n",
       "    </tr>\n",
       "    <tr>\n",
       "      <th>1440</th>\n",
       "      <td>L1_S25_D1854</td>\n",
       "      <td>0.009684</td>\n",
       "      <td>L1</td>\n",
       "      <td>S25</td>\n",
       "      <td>D1854</td>\n",
       "    </tr>\n",
       "    <tr>\n",
       "      <th>0</th>\n",
       "      <td>L0_S0_F0</td>\n",
       "      <td>0.009409</td>\n",
       "      <td>L0</td>\n",
       "      <td>S0</td>\n",
       "      <td>F0</td>\n",
       "    </tr>\n",
       "    <tr>\n",
       "      <th>735</th>\n",
       "      <td>L3_S29_F3351</td>\n",
       "      <td>0.009369</td>\n",
       "      <td>L3</td>\n",
       "      <td>S29</td>\n",
       "      <td>F3351</td>\n",
       "    </tr>\n",
       "    <tr>\n",
       "      <th>838</th>\n",
       "      <td>L3_S30_F3804</td>\n",
       "      <td>0.008936</td>\n",
       "      <td>L3</td>\n",
       "      <td>S30</td>\n",
       "      <td>F3804</td>\n",
       "    </tr>\n",
       "    <tr>\n",
       "      <th>843</th>\n",
       "      <td>L3_S30_F3829</td>\n",
       "      <td>0.008661</td>\n",
       "      <td>L3</td>\n",
       "      <td>S30</td>\n",
       "      <td>F3829</td>\n",
       "    </tr>\n",
       "    <tr>\n",
       "      <th>829</th>\n",
       "      <td>L3_S30_F3759</td>\n",
       "      <td>0.008582</td>\n",
       "      <td>L3</td>\n",
       "      <td>S30</td>\n",
       "      <td>F3759</td>\n",
       "    </tr>\n",
       "    <tr>\n",
       "      <th>854</th>\n",
       "      <td>L3_S33_F3865</td>\n",
       "      <td>0.008425</td>\n",
       "      <td>L3</td>\n",
       "      <td>S33</td>\n",
       "      <td>F3865</td>\n",
       "    </tr>\n",
       "    <tr>\n",
       "      <th>839</th>\n",
       "      <td>L3_S30_F3809</td>\n",
       "      <td>0.007440</td>\n",
       "      <td>L3</td>\n",
       "      <td>S30</td>\n",
       "      <td>F3809</td>\n",
       "    </tr>\n",
       "    <tr>\n",
       "      <th>828</th>\n",
       "      <td>L3_S30_F3754</td>\n",
       "      <td>0.007283</td>\n",
       "      <td>L3</td>\n",
       "      <td>S30</td>\n",
       "      <td>F3754</td>\n",
       "    </tr>\n",
       "    <tr>\n",
       "      <th>...</th>\n",
       "      <td>...</td>\n",
       "      <td>...</td>\n",
       "      <td>...</td>\n",
       "      <td>...</td>\n",
       "      <td>...</td>\n",
       "    </tr>\n",
       "    <tr>\n",
       "      <th>896</th>\n",
       "      <td>L3_S40_F3992</td>\n",
       "      <td>0.000000</td>\n",
       "      <td>L3</td>\n",
       "      <td>S40</td>\n",
       "      <td>F3992</td>\n",
       "    </tr>\n",
       "    <tr>\n",
       "      <th>895</th>\n",
       "      <td>L3_S40_F3990</td>\n",
       "      <td>0.000000</td>\n",
       "      <td>L3</td>\n",
       "      <td>S40</td>\n",
       "      <td>F3990</td>\n",
       "    </tr>\n",
       "    <tr>\n",
       "      <th>894</th>\n",
       "      <td>L3_S40_F3988</td>\n",
       "      <td>0.000000</td>\n",
       "      <td>L3</td>\n",
       "      <td>S40</td>\n",
       "      <td>F3988</td>\n",
       "    </tr>\n",
       "    <tr>\n",
       "      <th>939</th>\n",
       "      <td>L3_S47_F4168</td>\n",
       "      <td>0.000000</td>\n",
       "      <td>L3</td>\n",
       "      <td>S47</td>\n",
       "      <td>F4168</td>\n",
       "    </tr>\n",
       "    <tr>\n",
       "      <th>940</th>\n",
       "      <td>L3_S47_F4173</td>\n",
       "      <td>0.000000</td>\n",
       "      <td>L3</td>\n",
       "      <td>S47</td>\n",
       "      <td>F4173</td>\n",
       "    </tr>\n",
       "    <tr>\n",
       "      <th>941</th>\n",
       "      <td>L3_S47_F4178</td>\n",
       "      <td>0.000000</td>\n",
       "      <td>L3</td>\n",
       "      <td>S47</td>\n",
       "      <td>F4178</td>\n",
       "    </tr>\n",
       "    <tr>\n",
       "      <th>960</th>\n",
       "      <td>L3_S50_F4247</td>\n",
       "      <td>0.000000</td>\n",
       "      <td>L3</td>\n",
       "      <td>S50</td>\n",
       "      <td>F4247</td>\n",
       "    </tr>\n",
       "    <tr>\n",
       "      <th>971</th>\n",
       "      <td>L0_S0_D7</td>\n",
       "      <td>0.000000</td>\n",
       "      <td>L0</td>\n",
       "      <td>S0</td>\n",
       "      <td>D7</td>\n",
       "    </tr>\n",
       "    <tr>\n",
       "      <th>970</th>\n",
       "      <td>L0_S0_D5</td>\n",
       "      <td>0.000000</td>\n",
       "      <td>L0</td>\n",
       "      <td>S0</td>\n",
       "      <td>D5</td>\n",
       "    </tr>\n",
       "    <tr>\n",
       "      <th>969</th>\n",
       "      <td>L0_S0_D3</td>\n",
       "      <td>0.000000</td>\n",
       "      <td>L0</td>\n",
       "      <td>S0</td>\n",
       "      <td>D3</td>\n",
       "    </tr>\n",
       "    <tr>\n",
       "      <th>967</th>\n",
       "      <td>L3_S51_F4262</td>\n",
       "      <td>0.000000</td>\n",
       "      <td>L3</td>\n",
       "      <td>S51</td>\n",
       "      <td>F4262</td>\n",
       "    </tr>\n",
       "    <tr>\n",
       "      <th>966</th>\n",
       "      <td>L3_S51_F4260</td>\n",
       "      <td>0.000000</td>\n",
       "      <td>L3</td>\n",
       "      <td>S51</td>\n",
       "      <td>F4260</td>\n",
       "    </tr>\n",
       "    <tr>\n",
       "      <th>965</th>\n",
       "      <td>L3_S51_F4258</td>\n",
       "      <td>0.000000</td>\n",
       "      <td>L3</td>\n",
       "      <td>S51</td>\n",
       "      <td>F4258</td>\n",
       "    </tr>\n",
       "    <tr>\n",
       "      <th>964</th>\n",
       "      <td>L3_S51_F4256</td>\n",
       "      <td>0.000000</td>\n",
       "      <td>L3</td>\n",
       "      <td>S51</td>\n",
       "      <td>F4256</td>\n",
       "    </tr>\n",
       "    <tr>\n",
       "      <th>963</th>\n",
       "      <td>L3_S50_F4253</td>\n",
       "      <td>0.000000</td>\n",
       "      <td>L3</td>\n",
       "      <td>S50</td>\n",
       "      <td>F4253</td>\n",
       "    </tr>\n",
       "    <tr>\n",
       "      <th>962</th>\n",
       "      <td>L3_S50_F4251</td>\n",
       "      <td>0.000000</td>\n",
       "      <td>L3</td>\n",
       "      <td>S50</td>\n",
       "      <td>F4251</td>\n",
       "    </tr>\n",
       "    <tr>\n",
       "      <th>961</th>\n",
       "      <td>L3_S50_F4249</td>\n",
       "      <td>0.000000</td>\n",
       "      <td>L3</td>\n",
       "      <td>S50</td>\n",
       "      <td>F4249</td>\n",
       "    </tr>\n",
       "    <tr>\n",
       "      <th>959</th>\n",
       "      <td>L3_S50_F4245</td>\n",
       "      <td>0.000000</td>\n",
       "      <td>L3</td>\n",
       "      <td>S50</td>\n",
       "      <td>F4245</td>\n",
       "    </tr>\n",
       "    <tr>\n",
       "      <th>942</th>\n",
       "      <td>L3_S47_F4183</td>\n",
       "      <td>0.000000</td>\n",
       "      <td>L3</td>\n",
       "      <td>S47</td>\n",
       "      <td>F4183</td>\n",
       "    </tr>\n",
       "    <tr>\n",
       "      <th>956</th>\n",
       "      <td>L3_S49_F4236</td>\n",
       "      <td>0.000000</td>\n",
       "      <td>L3</td>\n",
       "      <td>S49</td>\n",
       "      <td>F4236</td>\n",
       "    </tr>\n",
       "    <tr>\n",
       "      <th>955</th>\n",
       "      <td>L3_S49_F4231</td>\n",
       "      <td>0.000000</td>\n",
       "      <td>L3</td>\n",
       "      <td>S49</td>\n",
       "      <td>F4231</td>\n",
       "    </tr>\n",
       "    <tr>\n",
       "      <th>954</th>\n",
       "      <td>L3_S49_F4226</td>\n",
       "      <td>0.000000</td>\n",
       "      <td>L3</td>\n",
       "      <td>S49</td>\n",
       "      <td>F4226</td>\n",
       "    </tr>\n",
       "    <tr>\n",
       "      <th>953</th>\n",
       "      <td>L3_S49_F4221</td>\n",
       "      <td>0.000000</td>\n",
       "      <td>L3</td>\n",
       "      <td>S49</td>\n",
       "      <td>F4221</td>\n",
       "    </tr>\n",
       "    <tr>\n",
       "      <th>951</th>\n",
       "      <td>L3_S49_F4211</td>\n",
       "      <td>0.000000</td>\n",
       "      <td>L3</td>\n",
       "      <td>S49</td>\n",
       "      <td>F4211</td>\n",
       "    </tr>\n",
       "    <tr>\n",
       "      <th>950</th>\n",
       "      <td>L3_S49_F4206</td>\n",
       "      <td>0.000000</td>\n",
       "      <td>L3</td>\n",
       "      <td>S49</td>\n",
       "      <td>F4206</td>\n",
       "    </tr>\n",
       "    <tr>\n",
       "      <th>949</th>\n",
       "      <td>L3_S48_F4204</td>\n",
       "      <td>0.000000</td>\n",
       "      <td>L3</td>\n",
       "      <td>S48</td>\n",
       "      <td>F4204</td>\n",
       "    </tr>\n",
       "    <tr>\n",
       "      <th>948</th>\n",
       "      <td>L3_S48_F4202</td>\n",
       "      <td>0.000000</td>\n",
       "      <td>L3</td>\n",
       "      <td>S48</td>\n",
       "      <td>F4202</td>\n",
       "    </tr>\n",
       "    <tr>\n",
       "      <th>947</th>\n",
       "      <td>L3_S48_F4200</td>\n",
       "      <td>0.000000</td>\n",
       "      <td>L3</td>\n",
       "      <td>S48</td>\n",
       "      <td>F4200</td>\n",
       "    </tr>\n",
       "    <tr>\n",
       "      <th>943</th>\n",
       "      <td>L3_S47_F4188</td>\n",
       "      <td>0.000000</td>\n",
       "      <td>L3</td>\n",
       "      <td>S47</td>\n",
       "      <td>F4188</td>\n",
       "    </tr>\n",
       "    <tr>\n",
       "      <th>2123</th>\n",
       "      <td>L3_S51_D4263</td>\n",
       "      <td>0.000000</td>\n",
       "      <td>L3</td>\n",
       "      <td>S51</td>\n",
       "      <td>D4263</td>\n",
       "    </tr>\n",
       "  </tbody>\n",
       "</table>\n",
       "<p>2124 rows × 5 columns</p>\n",
       "</div>"
      ],
      "text/plain": [
       "               fea      coef LineNo StationNo FeatureNo\n",
       "968       L0_S0_D1  0.050862     L0        S0        D1\n",
       "1851  L3_S29_D3316  0.034879     L3       S29     D3316\n",
       "1002    L0_S5_D115  0.022400     L0        S5      D115\n",
       "982      L0_S2_D34  0.019880     L0        S2       D34\n",
       "1773  L2_S26_D3037  0.018266     L2       S26     D3037\n",
       "2002  L3_S35_D3886  0.017991     L3       S35     D3886\n",
       "1009    L0_S7_D137  0.017951     L0        S7      D137\n",
       "1044   L0_S11_D280  0.017282     L0       S11      D280\n",
       "991      L0_S3_D70  0.016731     L0        S3       D70\n",
       "1987  L3_S33_D3856  0.015353     L3       S33     D3856\n",
       "2010  L3_S36_D3919  0.014330     L3       S36     D3919\n",
       "788   L3_S30_F3554  0.013621     L3       S30     F3554\n",
       "1348  L1_S24_D1511  0.012755     L1       S24     D1511\n",
       "1057   L0_S12_D331  0.012676     L0       S12      D331\n",
       "1031   L0_S10_D216  0.012086     L0       S10      D216\n",
       "851   L3_S33_F3859  0.011613     L3       S33     F3859\n",
       "826   L3_S30_F3744  0.011613     L3       S30     F3744\n",
       "726   L3_S29_F3324  0.011141     L3       S29     F3324\n",
       "1004    L0_S6_D120  0.011023     L0        S6      D120\n",
       "1000    L0_S4_D106  0.010629     L0        S4      D106\n",
       "786   L3_S30_F3544  0.010472     L3       S30     F3544\n",
       "1440  L1_S25_D1854  0.009684     L1       S25     D1854\n",
       "0         L0_S0_F0  0.009409     L0        S0        F0\n",
       "735   L3_S29_F3351  0.009369     L3       S29     F3351\n",
       "838   L3_S30_F3804  0.008936     L3       S30     F3804\n",
       "843   L3_S30_F3829  0.008661     L3       S30     F3829\n",
       "829   L3_S30_F3759  0.008582     L3       S30     F3759\n",
       "854   L3_S33_F3865  0.008425     L3       S33     F3865\n",
       "839   L3_S30_F3809  0.007440     L3       S30     F3809\n",
       "828   L3_S30_F3754  0.007283     L3       S30     F3754\n",
       "...            ...       ...    ...       ...       ...\n",
       "896   L3_S40_F3992  0.000000     L3       S40     F3992\n",
       "895   L3_S40_F3990  0.000000     L3       S40     F3990\n",
       "894   L3_S40_F3988  0.000000     L3       S40     F3988\n",
       "939   L3_S47_F4168  0.000000     L3       S47     F4168\n",
       "940   L3_S47_F4173  0.000000     L3       S47     F4173\n",
       "941   L3_S47_F4178  0.000000     L3       S47     F4178\n",
       "960   L3_S50_F4247  0.000000     L3       S50     F4247\n",
       "971       L0_S0_D7  0.000000     L0        S0        D7\n",
       "970       L0_S0_D5  0.000000     L0        S0        D5\n",
       "969       L0_S0_D3  0.000000     L0        S0        D3\n",
       "967   L3_S51_F4262  0.000000     L3       S51     F4262\n",
       "966   L3_S51_F4260  0.000000     L3       S51     F4260\n",
       "965   L3_S51_F4258  0.000000     L3       S51     F4258\n",
       "964   L3_S51_F4256  0.000000     L3       S51     F4256\n",
       "963   L3_S50_F4253  0.000000     L3       S50     F4253\n",
       "962   L3_S50_F4251  0.000000     L3       S50     F4251\n",
       "961   L3_S50_F4249  0.000000     L3       S50     F4249\n",
       "959   L3_S50_F4245  0.000000     L3       S50     F4245\n",
       "942   L3_S47_F4183  0.000000     L3       S47     F4183\n",
       "956   L3_S49_F4236  0.000000     L3       S49     F4236\n",
       "955   L3_S49_F4231  0.000000     L3       S49     F4231\n",
       "954   L3_S49_F4226  0.000000     L3       S49     F4226\n",
       "953   L3_S49_F4221  0.000000     L3       S49     F4221\n",
       "951   L3_S49_F4211  0.000000     L3       S49     F4211\n",
       "950   L3_S49_F4206  0.000000     L3       S49     F4206\n",
       "949   L3_S48_F4204  0.000000     L3       S48     F4204\n",
       "948   L3_S48_F4202  0.000000     L3       S48     F4202\n",
       "947   L3_S48_F4200  0.000000     L3       S48     F4200\n",
       "943   L3_S47_F4188  0.000000     L3       S47     F4188\n",
       "2123  L3_S51_D4263  0.000000     L3       S51     D4263\n",
       "\n",
       "[2124 rows x 5 columns]"
      ]
     },
     "execution_count": 71,
     "metadata": {},
     "output_type": "execute_result"
    },
    {
     "name": "stdout",
     "output_type": "stream",
     "text": [
      "time: 77 ms\n"
     ]
    }
   ],
   "source": [
    "fea_imp['LineNo']=fea_imp['fea'].apply(lambda l: l.split('_')[0])\n",
    "fea_imp['StationNo']=fea_imp['fea'].apply(lambda l: l.split('_')[1])\n",
    "fea_imp['FeatureNo']=fea_imp['fea'].apply(lambda l: l.split('_')[2])\n",
    "fea_imp"
   ]
  },
  {
   "cell_type": "code",
   "execution_count": 72,
   "metadata": {},
   "outputs": [
    {
     "name": "stdout",
     "output_type": "stream",
     "text": [
      "time: 1e+03 µs\n"
     ]
    }
   ],
   "source": [
    "#fea_imp=fea_imp[fea_imp['coef']]"
   ]
  },
  {
   "cell_type": "code",
   "execution_count": 73,
   "metadata": {},
   "outputs": [
    {
     "data": {
      "text/plain": [
       "<matplotlib.axes._subplots.AxesSubplot at 0x10d5d470>"
      ]
     },
     "execution_count": 73,
     "metadata": {},
     "output_type": "execute_result"
    },
    {
     "data": {
      "image/png": "[encoded data removed]",
      "text/plain": [
       "<matplotlib.figure.Figure at 0x13792128>"
      ]
     },
     "metadata": {},
     "output_type": "display_data"
    },
    {
     "name": "stdout",
     "output_type": "stream",
     "text": [
      "time: 336 ms\n"
     ]
    }
   ],
   "source": [
    "\n",
    "fea_imp['StationNo'].value_counts().sort_values().head(25).plot(kind='barh',figsize=(10,8))"
   ]
  },
  {
   "cell_type": "code",
   "execution_count": 74,
   "metadata": {},
   "outputs": [
    {
     "data": {
      "text/plain": [
       "<matplotlib.axes._subplots.AxesSubplot at 0x12b079b0>"
      ]
     },
     "execution_count": 74,
     "metadata": {},
     "output_type": "execute_result"
    },
    {
     "data": {
      "image/png": "[encoded data removed]",
      "text/plain": [
       "<matplotlib.figure.Figure at 0x12b07b00>"
      ]
     },
     "metadata": {},
     "output_type": "display_data"
    },
    {
     "name": "stdout",
     "output_type": "stream",
     "text": [
      "time: 174 ms\n"
     ]
    }
   ],
   "source": [
    "fea_imp['LineNo'].value_counts().plot(kind='bar')"
   ]
  },
  {
   "cell_type": "code",
   "execution_count": null,
   "metadata": {
    "collapsed": true
   },
   "outputs": [],
   "source": []
  },
  {
   "cell_type": "markdown",
   "metadata": {},
   "source": [
    "# Check Directory and File name"
   ]
  },
  {
   "cell_type": "code",
   "execution_count": 41,
   "metadata": {},
   "outputs": [
    {
     "ename": "SyntaxError",
     "evalue": "invalid syntax (<ipython-input-41-8cf8463b34ca>, line 1)",
     "output_type": "error",
     "traceback": [
      "\u001b[1;36m  File \u001b[1;32m\"<ipython-input-41-8cf8463b34ca>\"\u001b[1;36m, line \u001b[1;32m1\u001b[0m\n\u001b[1;33m    .\u001b[0m\n\u001b[1;37m    ^\u001b[0m\n\u001b[1;31mSyntaxError\u001b[0m\u001b[1;31m:\u001b[0m invalid syntax\n"
     ]
    }
   ],
   "source": [
    "."
   ]
  },
  {
   "cell_type": "code",
   "execution_count": 75,
   "metadata": {},
   "outputs": [
    {
     "name": "stdout",
     "output_type": "stream",
     "text": [
      "time: 8 ms\n"
     ]
    }
   ],
   "source": [
    "fea_imp.to_csv('C:\\\\Users\\\\sushant\\\\Documents\\\\New Start\\\\Datasets\\\\Bosch\\\\Results\\\\impFeat_sample_bal8.csv',index=False)"
   ]
  },
  {
   "cell_type": "code",
   "execution_count": 3,
   "metadata": {},
   "outputs": [
    {
     "name": "stdout",
     "output_type": "stream",
     "text": [
      "time: 64 ms\n"
     ]
    }
   ],
   "source": [
    "fea_imp=pd.read_csv('C:\\\\Users\\\\sushant\\\\Documents\\\\New Start\\\\Datasets\\\\Bosch\\\\Results\\\\impFeat_sample_bal8.csv')"
   ]
  },
  {
   "cell_type": "code",
   "execution_count": 5,
   "metadata": {},
   "outputs": [
    {
     "data": {
      "text/html": [
       "<div>\n",
       "<table border=\"1\" class=\"dataframe\">\n",
       "  <thead>\n",
       "    <tr style=\"text-align: right;\">\n",
       "      <th></th>\n",
       "      <th>fea</th>\n",
       "      <th>coef</th>\n",
       "      <th>LineNo</th>\n",
       "      <th>StationNo</th>\n",
       "      <th>FeatureNo</th>\n",
       "    </tr>\n",
       "  </thead>\n",
       "  <tbody>\n",
       "    <tr>\n",
       "      <th>0</th>\n",
       "      <td>L0_S0_D1</td>\n",
       "      <td>0.050862</td>\n",
       "      <td>L0</td>\n",
       "      <td>S0</td>\n",
       "      <td>D1</td>\n",
       "    </tr>\n",
       "    <tr>\n",
       "      <th>1</th>\n",
       "      <td>L3_S29_D3316</td>\n",
       "      <td>0.034879</td>\n",
       "      <td>L3</td>\n",
       "      <td>S29</td>\n",
       "      <td>D3316</td>\n",
       "    </tr>\n",
       "    <tr>\n",
       "      <th>2</th>\n",
       "      <td>L0_S5_D115</td>\n",
       "      <td>0.022400</td>\n",
       "      <td>L0</td>\n",
       "      <td>S5</td>\n",
       "      <td>D115</td>\n",
       "    </tr>\n",
       "    <tr>\n",
       "      <th>3</th>\n",
       "      <td>L0_S2_D34</td>\n",
       "      <td>0.019880</td>\n",
       "      <td>L0</td>\n",
       "      <td>S2</td>\n",
       "      <td>D34</td>\n",
       "    </tr>\n",
       "    <tr>\n",
       "      <th>4</th>\n",
       "      <td>L2_S26_D3037</td>\n",
       "      <td>0.018266</td>\n",
       "      <td>L2</td>\n",
       "      <td>S26</td>\n",
       "      <td>D3037</td>\n",
       "    </tr>\n",
       "  </tbody>\n",
       "</table>\n",
       "</div>"
      ],
      "text/plain": [
       "            fea      coef LineNo StationNo FeatureNo\n",
       "0      L0_S0_D1  0.050862     L0        S0        D1\n",
       "1  L3_S29_D3316  0.034879     L3       S29     D3316\n",
       "2    L0_S5_D115  0.022400     L0        S5      D115\n",
       "3     L0_S2_D34  0.019880     L0        S2       D34\n",
       "4  L2_S26_D3037  0.018266     L2       S26     D3037"
      ]
     },
     "execution_count": 5,
     "metadata": {},
     "output_type": "execute_result"
    },
    {
     "name": "stdout",
     "output_type": "stream",
     "text": [
      "time: 154 ms\n"
     ]
    }
   ],
   "source": [
    "fea_imp.head()"
   ]
  },
  {
   "cell_type": "code",
   "execution_count": null,
   "metadata": {
    "collapsed": true
   },
   "outputs": [],
   "source": []
  },
  {
   "cell_type": "code",
   "execution_count": null,
   "metadata": {
    "collapsed": true
   },
   "outputs": [],
   "source": []
  }
 ],
 "metadata": {
  "anaconda-cloud": {},
  "kernelspec": {
   "display_name": "Python [Root]",
   "language": "python",
   "name": "Python [Root]"
  },
  "language_info": {
   "codemirror_mode": {
    "name": "ipython",
    "version": 2
   },
   "file_extension": ".py",
   "mimetype": "text/x-python",
   "name": "python",
   "nbconvert_exporter": "python",
   "pygments_lexer": "ipython2",
   "version": "2.7.12"
  }
 },
 "nbformat": 4,
 "nbformat_minor": 1
}
